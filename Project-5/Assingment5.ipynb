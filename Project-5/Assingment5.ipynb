{
  "nbformat": 4,
  "nbformat_minor": 0,
  "metadata": {
    "colab": {
      "name": "Assingment5.ipynb",
      "version": "0.3.2",
      "provenance": [],
      "collapsed_sections": [],
      "include_colab_link": true
    },
    "kernelspec": {
      "name": "python3",
      "display_name": "Python 3"
    },
    "accelerator": "GPU"
  },
  "cells": [
    {
      "cell_type": "markdown",
      "metadata": {
        "id": "view-in-github",
        "colab_type": "text"
      },
      "source": [
        "<a href=\"https://colab.research.google.com/github/dhawalnegi1/EVA/blob/master/Project-5/Assingment5.ipynb\" target=\"_parent\"><img src=\"https://colab.research.google.com/assets/colab-badge.svg\" alt=\"Open In Colab\"/></a>"
      ]
    },
    {
      "cell_type": "markdown",
      "metadata": {
        "id": "2CMpR05ljdw7",
        "colab_type": "text"
      },
      "source": [
        "Installing the keras library if not already installed and then importing it."
      ]
    },
    {
      "cell_type": "code",
      "metadata": {
        "id": "kGWv5hBhv2jf",
        "colab_type": "code",
        "colab": {}
      },
      "source": [
        "# https://keras.io/\n",
        "!pip install -q keras\n",
        "import keras"
      ],
      "execution_count": 0,
      "outputs": []
    },
    {
      "cell_type": "markdown",
      "metadata": {
        "id": "FpN9iEY8j62H",
        "colab_type": "text"
      },
      "source": [
        "Importing the numpy library to be used later, and importing the models and differnt functions of keras library , and the mnist dataset."
      ]
    },
    {
      "cell_type": "code",
      "metadata": {
        "id": "wnMlDJQKv4VG",
        "colab_type": "code",
        "colab": {}
      },
      "source": [
        "import numpy as np\n",
        "\n",
        "from keras.models import Sequential\n",
        "from keras.layers import Flatten\n",
        "from keras.layers import Convolution2D\n",
        "from keras.utils import np_utils\n",
        "\n",
        "from keras.datasets import mnist"
      ],
      "execution_count": 0,
      "outputs": []
    },
    {
      "cell_type": "markdown",
      "metadata": {
        "id": "E3f2V3_4k5lC",
        "colab_type": "text"
      },
      "source": [
        "This cell is for loading the training as well as testing dataset in the specific lists. The dataset is download from and amazon storage bucket and is loaded in the defined variables."
      ]
    },
    {
      "cell_type": "code",
      "metadata": {
        "id": "8CdSu2lMwB9s",
        "colab_type": "code",
        "colab": {}
      },
      "source": [
        "(X_train, y_train), (X_test, y_test) = mnist.load_data()"
      ],
      "execution_count": 0,
      "outputs": []
    },
    {
      "cell_type": "markdown",
      "metadata": {
        "id": "QoeeIqZklfDO",
        "colab_type": "text"
      },
      "source": [
        "The shape (no. of images and size of the image) of the training dataset is printed. We import pyplot package from matplotlib library to plot the image in the notebook. the next line is a magic function .\"%\" is inline magic function used to plot in the notebook instead of creating new window. we are showing the first image fron the 60000 in thetraining dataset."
      ]
    },
    {
      "cell_type": "code",
      "metadata": {
        "id": "tLaDf0-rwCmj",
        "colab_type": "code",
        "outputId": "5889ab9e-d00f-41ef-af5b-53b777a05dad",
        "colab": {
          "base_uri": "https://localhost:8080/",
          "height": 303
        }
      },
      "source": [
        "print (X_train.shape)\n",
        "from matplotlib import pyplot as plt\n",
        "%matplotlib inline\n",
        "plt.imshow(X_train[0])"
      ],
      "execution_count": 17,
      "outputs": [
        {
          "output_type": "stream",
          "text": [
            "(60000, 28, 28)\n"
          ],
          "name": "stdout"
        },
        {
          "output_type": "execute_result",
          "data": {
            "text/plain": [
              "<matplotlib.image.AxesImage at 0x7feed0396f98>"
            ]
          },
          "metadata": {
            "tags": []
          },
          "execution_count": 17
        },
        {
          "output_type": "display_data",
          "data": {
            "image/png": "[encoded data removed]",
            "text/plain": [
              "<Figure size 432x288 with 1 Axes>"
            ]
          },
          "metadata": {
            "tags": []
          }
        }
      ]
    },
    {
      "cell_type": "markdown",
      "metadata": {
        "id": "faJOXTgDHl-O",
        "colab_type": "text"
      },
      "source": [
        "In this cell, the test as well as training dataset's shape is modified using reshape function because the dataset loaded was 2 dimensional vector and for convolution we require 3-d vector(i.e height x width of image plus no of channels). In reshape function we are defining no. of input channel as 1."
      ]
    },
    {
      "cell_type": "code",
      "metadata": {
        "id": "erb11jNwwFwl",
        "colab_type": "code",
        "colab": {}
      },
      "source": [
        "X_train = X_train.reshape(X_train.shape[0], 28, 28,1)\n",
        "X_test = X_test.reshape(X_test.shape[0], 28, 28,1)"
      ],
      "execution_count": 0,
      "outputs": []
    },
    {
      "cell_type": "markdown",
      "metadata": {
        "id": "sLBLnDZkJsRd",
        "colab_type": "text"
      },
      "source": [
        "In this cell, we change the datatype of the dataset to float and then the pixel value of each image in training and testing datasets are normalized(i.e. between 0 & 1)."
      ]
    },
    {
      "cell_type": "code",
      "metadata": {
        "id": "RLK4YDoRwHet",
        "colab_type": "code",
        "colab": {}
      },
      "source": [
        "X_train = X_train.astype('float32')\n",
        "X_test = X_test.astype('float32')\n",
        "X_train /= 255\n",
        "X_test /= 255"
      ],
      "execution_count": 0,
      "outputs": []
    },
    {
      "cell_type": "markdown",
      "metadata": {
        "id": "mVvWIWWtL8QV",
        "colab_type": "text"
      },
      "source": [
        "In this cell, we are printing the classes of 1st 10 images of training dataset,"
      ]
    },
    {
      "cell_type": "code",
      "metadata": {
        "id": "JNKLOmhlwJQl",
        "colab_type": "code",
        "outputId": "e5407cd7-4ffa-4a6f-fa3b-95fab67dbfb6",
        "colab": {
          "base_uri": "https://localhost:8080/",
          "height": 34
        }
      },
      "source": [
        "y_train[:10]\n"
      ],
      "execution_count": 20,
      "outputs": [
        {
          "output_type": "execute_result",
          "data": {
            "text/plain": [
              "array([5, 0, 4, 1, 9, 2, 1, 3, 1, 4], dtype=uint8)"
            ]
          },
          "metadata": {
            "tags": []
          },
          "execution_count": 20
        }
      ]
    },
    {
      "cell_type": "markdown",
      "metadata": {
        "id": "r74Z-PrTNSF7",
        "colab_type": "text"
      },
      "source": [
        "In, the cell we are coverting the y_train and y_test data into categorical data(i.e for each image there is array of 10 values representing either 0 or 1, telling image belong to which class). Only 1 out of 10 values can be 1. We using numpy to perform this action."
      ]
    },
    {
      "cell_type": "code",
      "metadata": {
        "id": "YusMJguiwKsM",
        "colab_type": "code",
        "colab": {}
      },
      "source": [
        "# Convert 1-dimensional class arrays to 10-dimensional class matrices\n",
        "Y_train = np_utils.to_categorical(y_train, 10)\n",
        "Y_test = np_utils.to_categorical(y_test, 10)"
      ],
      "execution_count": 0,
      "outputs": []
    },
    {
      "cell_type": "markdown",
      "metadata": {
        "id": "4WWcMv-SN6L6",
        "colab_type": "text"
      },
      "source": [
        "In this cell, we are printing the categorical value of 1st 10 images of training dataset."
      ]
    },
    {
      "cell_type": "code",
      "metadata": {
        "id": "upxc99AswMW0",
        "colab_type": "code",
        "outputId": "d9a4bd05-c5a5-4c71-8ec5-3123c332507d",
        "colab": {
          "base_uri": "https://localhost:8080/",
          "height": 187
        }
      },
      "source": [
        "Y_train[:10]\n"
      ],
      "execution_count": 22,
      "outputs": [
        {
          "output_type": "execute_result",
          "data": {
            "text/plain": [
              "array([[0., 0., 0., 0., 0., 1., 0., 0., 0., 0.],\n",
              "       [1., 0., 0., 0., 0., 0., 0., 0., 0., 0.],\n",
              "       [0., 0., 0., 0., 1., 0., 0., 0., 0., 0.],\n",
              "       [0., 1., 0., 0., 0., 0., 0., 0., 0., 0.],\n",
              "       [0., 0., 0., 0., 0., 0., 0., 0., 0., 1.],\n",
              "       [0., 0., 1., 0., 0., 0., 0., 0., 0., 0.],\n",
              "       [0., 1., 0., 0., 0., 0., 0., 0., 0., 0.],\n",
              "       [0., 0., 0., 1., 0., 0., 0., 0., 0., 0.],\n",
              "       [0., 1., 0., 0., 0., 0., 0., 0., 0., 0.],\n",
              "       [0., 0., 0., 0., 1., 0., 0., 0., 0., 0.]], dtype=float32)"
            ]
          },
          "metadata": {
            "tags": []
          },
          "execution_count": 22
        }
      ]
    },
    {
      "cell_type": "code",
      "metadata": {
        "id": "XdctWkasG156",
        "colab_type": "code",
        "outputId": "a36eb358-40c9-4c59-9b81-60986a7aecd3",
        "colab": {
          "base_uri": "https://localhost:8080/",
          "height": 136
        }
      },
      "source": [
        "# example of standardizing a image dataset\n",
        "from keras.datasets import mnist\n",
        "from keras.preprocessing.image import ImageDataGenerator\n",
        "# report pixel means and standard deviations\n",
        "print('Statistics train=%.3f (%.3f), test=%.3f (%.3f)' % (X_train.mean(), X_train.std(), X_test.mean(), X_test.std()))\n",
        "# create generator that centers pixel values\n",
        "datagen = ImageDataGenerator(featurewise_center=True, featurewise_std_normalization=True)\n",
        "# calculate the mean on the training dataset\n",
        "datagen.fit(X_train)\n",
        "print('Data Generator mean=%.3f, std=%.3f' % (datagen.mean, datagen.std))\n",
        "# demonstrate effect on a single batch of samples\n",
        "iterator = datagen.flow(X_train, Y_train, batch_size=64)\n",
        "# get a batch\n",
        "batchX, batchy = iterator.next()\n",
        "# pixel stats in the batch\n",
        "print(batchX.shape, batchX.mean(), batchX.std())\n",
        "# demonstrate effect on entire training dataset\n",
        "iterator = datagen.flow(X_train, Y_train, batch_size=len(X_train), shuffle=False)\n",
        "# get a batch\n",
        "batchX, batchy = iterator.next()\n",
        "# pixel stats in the batch\n",
        "print(batchX.shape, batchX.mean(), batchX.std())\n",
        "\n",
        "\n",
        "datagen = ImageDataGenerator(featurewise_center=True, featurewise_std_normalization=True)\n",
        "# calculate the mean on the training dataset\n",
        "datagen.fit(X_test)\n",
        "print('Data Generator mean=%.3f, std=%.3f' % (datagen.mean, datagen.std))\n",
        "# demonstrate effect on a single batch of samples\n",
        "iterator = datagen.flow(X_test, Y_test, batch_size=64)\n",
        "# get a batch\n",
        "testX, testy = iterator.next()\n",
        "# pixel stats in the batch\n",
        "print(testX.shape, testX.mean(), testX.std())\n",
        "# demonstrate effect on entire training dataset\n",
        "iterator = datagen.flow(X_test, Y_test, batch_size=len(X_test), shuffle=False)\n",
        "# get a batch\n",
        "testX, testy = iterator.next()\n",
        "# pixel stats in the batch\n",
        "print(testX.shape, testX.mean(), testX.std())\n",
        "\n",
        "\n"
      ],
      "execution_count": 23,
      "outputs": [
        {
          "output_type": "stream",
          "text": [
            "Statistics train=0.131 (0.308), test=0.133 (0.310)\n",
            "Data Generator mean=0.131, std=0.308\n",
            "(64, 28, 28, 1) 0.043102913 1.0479922\n",
            "(60000, 28, 28, 1) -4.9324944e-07 0.9999959\n",
            "Data Generator mean=0.133, std=0.310\n",
            "(64, 28, 28, 1) -0.0030482204 0.9998886\n",
            "(10000, 28, 28, 1) -2.0761392e-07 0.9999966\n"
          ],
          "name": "stdout"
        }
      ]
    },
    {
      "cell_type": "markdown",
      "metadata": {
        "id": "MzPazoaiOG28",
        "colab_type": "text"
      },
      "source": [
        "This is the cell where are model and its layers are defined. We are defining sequential model.\n",
        "Initial input to the model is (28x28)x1."
      ]
    },
    {
      "cell_type": "code",
      "metadata": {
        "id": "irTVUE47wNwr",
        "colab_type": "code",
        "outputId": "18f5dee8-a79e-4a0a-afff-fe435b7fb3d8",
        "colab": {
          "base_uri": "https://localhost:8080/",
          "height": 1312
        }
      },
      "source": [
        "from keras.layers import Activation, MaxPooling2D, BatchNormalization, Dropout, regularizers\n",
        "\n",
        "model = Sequential() \n",
        "\n",
        "model.add(Convolution2D(8, 3, 3, input_shape=(28,28,1),use_bias=False)) # input=(28x28)      receptive field = 3x3\n",
        "model.add(BatchNormalization())\n",
        "model.add(Activation('relu'))\n",
        "#model.add(Dropout(0.1))\n",
        "\n",
        "model.add(Convolution2D(16, 3, 3,use_bias=False,kernel_regularizer=regularizers.l2(0.01)))                        # input=(26x26)     receptive field = 5x5\n",
        "model.add(BatchNormalization())\n",
        "model.add(Activation('relu'))\n",
        "model.add(Dropout(0.05))\n",
        "\n",
        "model.add(Convolution2D(16, 3, 3,use_bias=False,kernel_regularizer=regularizers.l2(0.01)))                       # input=(24x24)     receptive field = 7x7\n",
        "model.add(BatchNormalization())\n",
        "model.add(Activation('relu'))\n",
        "model.add(Dropout(0.05))\n",
        "\n",
        "model.add(MaxPooling2D(pool_size=(2, 2)))                                    # input=(22x22)    receptive field = 14x14\n",
        "model.add(Convolution2D(8,1,use_bias=False))\n",
        "model.add(BatchNormalization())\n",
        "model.add(Dropout(0.05))\n",
        "\n",
        "model.add(Convolution2D(8, 3, 3,use_bias=False,kernel_regularizer=regularizers.l2(0.01)))                       # input=(11x11)    receptive field = 16x16\n",
        "model.add(BatchNormalization())\n",
        "model.add(Activation('relu'))\n",
        "model.add(Dropout(0.05))\n",
        "\n",
        "model.add(Convolution2D(16, 3, 3,use_bias=False,kernel_regularizer=regularizers.l2(0.01)))                       # input=(9x9)    receptive field = 18x18\n",
        "model.add(BatchNormalization())\n",
        "model.add(Activation('relu'))\n",
        "model.add(Dropout(0.05))\n",
        "\n",
        "model.add(Convolution2D(16, 3, 3,use_bias=False,kernel_regularizer=regularizers.l2(0.01)))                      # input=(7x7)    receptive field = 20x20\n",
        "model.add(BatchNormalization())\n",
        "model.add(Activation('relu'))\n",
        "\n",
        "model.add(Convolution2D(10, 5, 5, activation='relu',use_bias=False))                      # input=(5x5)     receptive field = 22x22\n",
        "model.add(Flatten()) \n",
        "model.add(Activation('softmax'))\n",
        "\n",
        "model.summary()"
      ],
      "execution_count": 24,
      "outputs": [
        {
          "output_type": "stream",
          "text": [
            "/usr/local/lib/python3.6/dist-packages/ipykernel_launcher.py:5: UserWarning: Update your `Conv2D` call to the Keras 2 API: `Conv2D(8, (3, 3), input_shape=(28, 28, 1..., use_bias=False)`\n",
            "  \"\"\"\n",
            "/usr/local/lib/python3.6/dist-packages/ipykernel_launcher.py:10: UserWarning: Update your `Conv2D` call to the Keras 2 API: `Conv2D(16, (3, 3), use_bias=False, kernel_regularizer=<keras.reg...)`\n",
            "  # Remove the CWD from sys.path while we load stuff.\n",
            "/usr/local/lib/python3.6/dist-packages/ipykernel_launcher.py:15: UserWarning: Update your `Conv2D` call to the Keras 2 API: `Conv2D(16, (3, 3), use_bias=False, kernel_regularizer=<keras.reg...)`\n",
            "  from ipykernel import kernelapp as app\n",
            "/usr/local/lib/python3.6/dist-packages/ipykernel_launcher.py:25: UserWarning: Update your `Conv2D` call to the Keras 2 API: `Conv2D(8, (3, 3), use_bias=False, kernel_regularizer=<keras.reg...)`\n",
            "/usr/local/lib/python3.6/dist-packages/ipykernel_launcher.py:30: UserWarning: Update your `Conv2D` call to the Keras 2 API: `Conv2D(16, (3, 3), use_bias=False, kernel_regularizer=<keras.reg...)`\n"
          ],
          "name": "stderr"
        },
        {
          "output_type": "stream",
          "text": [
            "_________________________________________________________________\n",
            "Layer (type)                 Output Shape              Param #   \n",
            "=================================================================\n",
            "conv2d_9 (Conv2D)            (None, 26, 26, 8)         72        \n",
            "_________________________________________________________________\n",
            "batch_normalization_8 (Batch (None, 26, 26, 8)         32        \n",
            "_________________________________________________________________\n",
            "activation_8 (Activation)    (None, 26, 26, 8)         0         \n",
            "_________________________________________________________________\n",
            "conv2d_10 (Conv2D)           (None, 24, 24, 16)        1152      \n",
            "_________________________________________________________________\n",
            "batch_normalization_9 (Batch (None, 24, 24, 16)        64        \n",
            "_________________________________________________________________\n",
            "activation_9 (Activation)    (None, 24, 24, 16)        0         \n",
            "_________________________________________________________________\n",
            "dropout_6 (Dropout)          (None, 24, 24, 16)        0         \n",
            "_________________________________________________________________\n",
            "conv2d_11 (Conv2D)           (None, 22, 22, 16)        2304      \n",
            "_________________________________________________________________\n",
            "batch_normalization_10 (Batc (None, 22, 22, 16)        64        \n",
            "_________________________________________________________________\n",
            "activation_10 (Activation)   (None, 22, 22, 16)        0         \n",
            "_________________________________________________________________\n",
            "dropout_7 (Dropout)          (None, 22, 22, 16)        0         \n",
            "_________________________________________________________________\n",
            "max_pooling2d_2 (MaxPooling2 (None, 11, 11, 16)        0         \n",
            "_________________________________________________________________\n",
            "conv2d_12 (Conv2D)           (None, 11, 11, 8)         128       \n",
            "_________________________________________________________________\n",
            "batch_normalization_11 (Batc (None, 11, 11, 8)         32        \n",
            "_________________________________________________________________\n",
            "dropout_8 (Dropout)          (None, 11, 11, 8)         0         \n",
            "_________________________________________________________________\n",
            "conv2d_13 (Conv2D)           (None, 9, 9, 8)           576       \n",
            "_________________________________________________________________\n",
            "batch_normalization_12 (Batc (None, 9, 9, 8)           32        \n",
            "_________________________________________________________________\n",
            "activation_11 (Activation)   (None, 9, 9, 8)           0         \n",
            "_________________________________________________________________\n",
            "dropout_9 (Dropout)          (None, 9, 9, 8)           0         \n",
            "_________________________________________________________________\n",
            "conv2d_14 (Conv2D)           (None, 7, 7, 16)          1152      \n",
            "_________________________________________________________________\n",
            "batch_normalization_13 (Batc (None, 7, 7, 16)          64        \n",
            "_________________________________________________________________\n",
            "activation_12 (Activation)   (None, 7, 7, 16)          0         \n",
            "_________________________________________________________________\n",
            "dropout_10 (Dropout)         (None, 7, 7, 16)          0         \n",
            "_________________________________________________________________\n",
            "conv2d_15 (Conv2D)           (None, 5, 5, 16)          2304      \n",
            "_________________________________________________________________\n",
            "batch_normalization_14 (Batc (None, 5, 5, 16)          64        \n",
            "_________________________________________________________________\n",
            "activation_13 (Activation)   (None, 5, 5, 16)          0         \n",
            "_________________________________________________________________\n",
            "conv2d_16 (Conv2D)           (None, 1, 1, 10)          4000      \n",
            "_________________________________________________________________\n",
            "flatten_2 (Flatten)          (None, 10)                0         \n",
            "_________________________________________________________________\n",
            "activation_14 (Activation)   (None, 10)                0         \n",
            "=================================================================\n",
            "Total params: 12,040\n",
            "Trainable params: 11,864\n",
            "Non-trainable params: 176\n",
            "_________________________________________________________________\n"
          ],
          "name": "stdout"
        },
        {
          "output_type": "stream",
          "text": [
            "/usr/local/lib/python3.6/dist-packages/ipykernel_launcher.py:35: UserWarning: Update your `Conv2D` call to the Keras 2 API: `Conv2D(16, (3, 3), use_bias=False, kernel_regularizer=<keras.reg...)`\n",
            "/usr/local/lib/python3.6/dist-packages/ipykernel_launcher.py:39: UserWarning: Update your `Conv2D` call to the Keras 2 API: `Conv2D(10, (5, 5), activation=\"relu\", use_bias=False)`\n"
          ],
          "name": "stderr"
        }
      ]
    },
    {
      "cell_type": "markdown",
      "metadata": {
        "id": "uNtXNS3rQPbc",
        "colab_type": "text"
      },
      "source": [
        "Here we compile our model and configure its learning process . we pass 3 arguments,i.e. optimizer, loss function and metrics."
      ]
    },
    {
      "cell_type": "code",
      "metadata": {
        "id": "VYZOpRb6yG7_",
        "colab_type": "code",
        "colab": {}
      },
      "source": [
        "from keras.optimizers import Adam\n",
        "from keras.callbacks import LearningRateScheduler, ModelCheckpoint\n",
        "def scheduler(epoch, lr):\n",
        "  return round(0.003 * 1/(1 + 0.319 * epoch), 10)\n",
        "\n",
        "model.compile(loss='categorical_crossentropy', optimizer=Adam(lr=0.003), metrics=['accuracy'])\n",
        "\n",
        "filepath=\"saved.hdf5\"\n",
        "checkpoint = ModelCheckpoint(filepath, monitor='val_acc', verbose=1, save_best_only=True, mode='max')\n",
        "lr=LearningRateScheduler(scheduler, verbose=1)\n",
        "callbacks_list = [checkpoint,lr]"
      ],
      "execution_count": 0,
      "outputs": []
    },
    {
      "cell_type": "markdown",
      "metadata": {
        "id": "PmqnY0-kQQM0",
        "colab_type": "text"
      },
      "source": [
        "In this cell, we train our model on training dataset , by dividing it into batches of size 512 each. The model is trained 40 times on dataset. i.e. it will go over all images 40 times(epochs) and best model is saved."
      ]
    },
    {
      "cell_type": "code",
      "metadata": {
        "id": "5O248wVQyMft",
        "colab_type": "code",
        "outputId": "e44ca287-d56d-49e1-9ab5-e500c06964c5",
        "colab": {
          "base_uri": "https://localhost:8080/",
          "height": 4131
        }
      },
      "source": [
        "model.fit(batchX, batchy, batch_size=512, epochs=40, verbose=1, validation_data=(testX, testy), callbacks= callbacks_list)"
      ],
      "execution_count": 26,
      "outputs": [
        {
          "output_type": "stream",
          "text": [
            "Train on 60000 samples, validate on 10000 samples\n",
            "Epoch 1/40\n",
            "\n",
            "Epoch 00001: LearningRateScheduler setting learning rate to 0.003.\n",
            "60000/60000 [==============================] - 8s 130us/step - loss: 0.6589 - acc: 0.8992 - val_loss: 3.8249 - val_acc: 0.1138\n",
            "\n",
            "Epoch 00001: val_acc improved from -inf to 0.11380, saving model to saved.hdf5\n",
            "Epoch 2/40\n",
            "\n",
            "Epoch 00002: LearningRateScheduler setting learning rate to 0.0022744503.\n",
            "60000/60000 [==============================] - 6s 92us/step - loss: 0.1403 - acc: 0.9792 - val_loss: 3.1185 - val_acc: 0.2400\n",
            "\n",
            "Epoch 00002: val_acc improved from 0.11380 to 0.24000, saving model to saved.hdf5\n",
            "Epoch 3/40\n",
            "\n",
            "Epoch 00003: LearningRateScheduler setting learning rate to 0.0018315018.\n",
            "60000/60000 [==============================] - 6s 93us/step - loss: 0.0996 - acc: 0.9826 - val_loss: 1.6353 - val_acc: 0.4410\n",
            "\n",
            "Epoch 00003: val_acc improved from 0.24000 to 0.44100, saving model to saved.hdf5\n",
            "Epoch 4/40\n",
            "\n",
            "Epoch 00004: LearningRateScheduler setting learning rate to 0.0015329586.\n",
            "60000/60000 [==============================] - 6s 92us/step - loss: 0.0810 - acc: 0.9853 - val_loss: 0.4706 - val_acc: 0.8598\n",
            "\n",
            "Epoch 00004: val_acc improved from 0.44100 to 0.85980, saving model to saved.hdf5\n",
            "Epoch 5/40\n",
            "\n",
            "Epoch 00005: LearningRateScheduler setting learning rate to 0.0013181019.\n",
            "60000/60000 [==============================] - 6s 92us/step - loss: 0.0681 - acc: 0.9879 - val_loss: 0.4821 - val_acc: 0.8570\n",
            "\n",
            "Epoch 00005: val_acc did not improve from 0.85980\n",
            "Epoch 6/40\n",
            "\n",
            "Epoch 00006: LearningRateScheduler setting learning rate to 0.0011560694.\n",
            "60000/60000 [==============================] - 6s 92us/step - loss: 0.0620 - acc: 0.9879 - val_loss: 0.2102 - val_acc: 0.9391\n",
            "\n",
            "Epoch 00006: val_acc improved from 0.85980 to 0.93910, saving model to saved.hdf5\n",
            "Epoch 7/40\n",
            "\n",
            "Epoch 00007: LearningRateScheduler setting learning rate to 0.0010295127.\n",
            "60000/60000 [==============================] - 6s 92us/step - loss: 0.0547 - acc: 0.9899 - val_loss: 0.0823 - val_acc: 0.9799\n",
            "\n",
            "Epoch 00007: val_acc improved from 0.93910 to 0.97990, saving model to saved.hdf5\n",
            "Epoch 8/40\n",
            "\n",
            "Epoch 00008: LearningRateScheduler setting learning rate to 0.0009279307.\n",
            "60000/60000 [==============================] - 6s 92us/step - loss: 0.0525 - acc: 0.9901 - val_loss: 0.0944 - val_acc: 0.9775\n",
            "\n",
            "Epoch 00008: val_acc did not improve from 0.97990\n",
            "Epoch 9/40\n",
            "\n",
            "Epoch 00009: LearningRateScheduler setting learning rate to 0.0008445946.\n",
            "60000/60000 [==============================] - 6s 92us/step - loss: 0.0491 - acc: 0.9906 - val_loss: 0.0465 - val_acc: 0.9912\n",
            "\n",
            "Epoch 00009: val_acc improved from 0.97990 to 0.99120, saving model to saved.hdf5\n",
            "Epoch 10/40\n",
            "\n",
            "Epoch 00010: LearningRateScheduler setting learning rate to 0.0007749935.\n",
            "60000/60000 [==============================] - 5s 92us/step - loss: 0.0486 - acc: 0.9902 - val_loss: 0.0609 - val_acc: 0.9867\n",
            "\n",
            "Epoch 00010: val_acc did not improve from 0.99120\n",
            "Epoch 11/40\n",
            "\n",
            "Epoch 00011: LearningRateScheduler setting learning rate to 0.0007159905.\n",
            "60000/60000 [==============================] - 6s 92us/step - loss: 0.0438 - acc: 0.9917 - val_loss: 0.0509 - val_acc: 0.9893\n",
            "\n",
            "Epoch 00011: val_acc did not improve from 0.99120\n",
            "Epoch 12/40\n",
            "\n",
            "Epoch 00012: LearningRateScheduler setting learning rate to 0.000665336.\n",
            "60000/60000 [==============================] - 6s 92us/step - loss: 0.0409 - acc: 0.9917 - val_loss: 0.0485 - val_acc: 0.9896\n",
            "\n",
            "Epoch 00012: val_acc did not improve from 0.99120\n",
            "Epoch 13/40\n",
            "\n",
            "Epoch 00013: LearningRateScheduler setting learning rate to 0.0006213753.\n",
            "60000/60000 [==============================] - 5s 92us/step - loss: 0.0413 - acc: 0.9917 - val_loss: 0.0521 - val_acc: 0.9891\n",
            "\n",
            "Epoch 00013: val_acc did not improve from 0.99120\n",
            "Epoch 14/40\n",
            "\n",
            "Epoch 00014: LearningRateScheduler setting learning rate to 0.0005828638.\n",
            "60000/60000 [==============================] - 6s 92us/step - loss: 0.0370 - acc: 0.9930 - val_loss: 0.0831 - val_acc: 0.9766\n",
            "\n",
            "Epoch 00014: val_acc did not improve from 0.99120\n",
            "Epoch 15/40\n",
            "\n",
            "Epoch 00015: LearningRateScheduler setting learning rate to 0.0005488474.\n",
            "60000/60000 [==============================] - 6s 92us/step - loss: 0.0383 - acc: 0.9922 - val_loss: 0.0470 - val_acc: 0.9892\n",
            "\n",
            "Epoch 00015: val_acc did not improve from 0.99120\n",
            "Epoch 16/40\n",
            "\n",
            "Epoch 00016: LearningRateScheduler setting learning rate to 0.0005185825.\n",
            "60000/60000 [==============================] - 6s 92us/step - loss: 0.0349 - acc: 0.9931 - val_loss: 0.0457 - val_acc: 0.9901\n",
            "\n",
            "Epoch 00016: val_acc did not improve from 0.99120\n",
            "Epoch 17/40\n",
            "\n",
            "Epoch 00017: LearningRateScheduler setting learning rate to 0.000491481.\n",
            "60000/60000 [==============================] - 6s 92us/step - loss: 0.0345 - acc: 0.9930 - val_loss: 0.0484 - val_acc: 0.9888\n",
            "\n",
            "Epoch 00017: val_acc did not improve from 0.99120\n",
            "Epoch 18/40\n",
            "\n",
            "Epoch 00018: LearningRateScheduler setting learning rate to 0.0004670715.\n",
            "60000/60000 [==============================] - 6s 92us/step - loss: 0.0314 - acc: 0.9939 - val_loss: 0.0393 - val_acc: 0.9921\n",
            "\n",
            "Epoch 00018: val_acc improved from 0.99120 to 0.99210, saving model to saved.hdf5\n",
            "Epoch 19/40\n",
            "\n",
            "Epoch 00019: LearningRateScheduler setting learning rate to 0.0004449718.\n",
            "60000/60000 [==============================] - 6s 92us/step - loss: 0.0331 - acc: 0.9932 - val_loss: 0.0423 - val_acc: 0.9911\n",
            "\n",
            "Epoch 00019: val_acc did not improve from 0.99210\n",
            "Epoch 20/40\n",
            "\n",
            "Epoch 00020: LearningRateScheduler setting learning rate to 0.000424869.\n",
            "60000/60000 [==============================] - 5s 91us/step - loss: 0.0320 - acc: 0.9935 - val_loss: 0.0366 - val_acc: 0.9913\n",
            "\n",
            "Epoch 00020: val_acc did not improve from 0.99210\n",
            "Epoch 21/40\n",
            "\n",
            "Epoch 00021: LearningRateScheduler setting learning rate to 0.0004065041.\n",
            "60000/60000 [==============================] - 6s 92us/step - loss: 0.0311 - acc: 0.9937 - val_loss: 0.0395 - val_acc: 0.9914\n",
            "\n",
            "Epoch 00021: val_acc did not improve from 0.99210\n",
            "Epoch 22/40\n",
            "\n",
            "Epoch 00022: LearningRateScheduler setting learning rate to 0.000389661.\n",
            "60000/60000 [==============================] - 6s 92us/step - loss: 0.0301 - acc: 0.9944 - val_loss: 0.0411 - val_acc: 0.9910\n",
            "\n",
            "Epoch 00022: val_acc did not improve from 0.99210\n",
            "Epoch 23/40\n",
            "\n",
            "Epoch 00023: LearningRateScheduler setting learning rate to 0.0003741581.\n",
            "60000/60000 [==============================] - 6s 92us/step - loss: 0.0280 - acc: 0.9945 - val_loss: 0.0370 - val_acc: 0.9921\n",
            "\n",
            "Epoch 00023: val_acc did not improve from 0.99210\n",
            "Epoch 24/40\n",
            "\n",
            "Epoch 00024: LearningRateScheduler setting learning rate to 0.0003598417.\n",
            "60000/60000 [==============================] - 6s 92us/step - loss: 0.0272 - acc: 0.9947 - val_loss: 0.0367 - val_acc: 0.9917\n",
            "\n",
            "Epoch 00024: val_acc did not improve from 0.99210\n",
            "Epoch 25/40\n",
            "\n",
            "Epoch 00025: LearningRateScheduler setting learning rate to 0.0003465804.\n",
            "60000/60000 [==============================] - 5s 91us/step - loss: 0.0263 - acc: 0.9950 - val_loss: 0.0321 - val_acc: 0.9927\n",
            "\n",
            "Epoch 00025: val_acc improved from 0.99210 to 0.99270, saving model to saved.hdf5\n",
            "Epoch 26/40\n",
            "\n",
            "Epoch 00026: LearningRateScheduler setting learning rate to 0.0003342618.\n",
            "60000/60000 [==============================] - 5s 92us/step - loss: 0.0263 - acc: 0.9949 - val_loss: 0.0465 - val_acc: 0.9889\n",
            "\n",
            "Epoch 00026: val_acc did not improve from 0.99270\n",
            "Epoch 27/40\n",
            "\n",
            "Epoch 00027: LearningRateScheduler setting learning rate to 0.0003227889.\n",
            "60000/60000 [==============================] - 6s 92us/step - loss: 0.0267 - acc: 0.9944 - val_loss: 0.0375 - val_acc: 0.9917\n",
            "\n",
            "Epoch 00027: val_acc did not improve from 0.99270\n",
            "Epoch 28/40\n",
            "\n",
            "Epoch 00028: LearningRateScheduler setting learning rate to 0.0003120774.\n",
            "60000/60000 [==============================] - 6s 92us/step - loss: 0.0253 - acc: 0.9950 - val_loss: 0.0359 - val_acc: 0.9922\n",
            "\n",
            "Epoch 00028: val_acc did not improve from 0.99270\n",
            "Epoch 29/40\n",
            "\n",
            "Epoch 00029: LearningRateScheduler setting learning rate to 0.000302054.\n",
            "60000/60000 [==============================] - 6s 92us/step - loss: 0.0252 - acc: 0.9950 - val_loss: 0.0372 - val_acc: 0.9906\n",
            "\n",
            "Epoch 00029: val_acc did not improve from 0.99270\n",
            "Epoch 30/40\n",
            "\n",
            "Epoch 00030: LearningRateScheduler setting learning rate to 0.0002926544.\n",
            "60000/60000 [==============================] - 6s 92us/step - loss: 0.0246 - acc: 0.9951 - val_loss: 0.0310 - val_acc: 0.9944\n",
            "\n",
            "Epoch 00030: val_acc improved from 0.99270 to 0.99440, saving model to saved.hdf5\n",
            "Epoch 31/40\n",
            "\n",
            "Epoch 00031: LearningRateScheduler setting learning rate to 0.0002838221.\n",
            "60000/60000 [==============================] - 5s 92us/step - loss: 0.0229 - acc: 0.9957 - val_loss: 0.0329 - val_acc: 0.9932\n",
            "\n",
            "Epoch 00031: val_acc did not improve from 0.99440\n",
            "Epoch 32/40\n",
            "\n",
            "Epoch 00032: LearningRateScheduler setting learning rate to 0.0002755074.\n",
            "60000/60000 [==============================] - 5s 91us/step - loss: 0.0231 - acc: 0.9953 - val_loss: 0.0348 - val_acc: 0.9926\n",
            "\n",
            "Epoch 00032: val_acc did not improve from 0.99440\n",
            "Epoch 33/40\n",
            "\n",
            "Epoch 00033: LearningRateScheduler setting learning rate to 0.000267666.\n",
            "60000/60000 [==============================] - 6s 92us/step - loss: 0.0218 - acc: 0.9959 - val_loss: 0.0422 - val_acc: 0.9892\n",
            "\n",
            "Epoch 00033: val_acc did not improve from 0.99440\n",
            "Epoch 34/40\n",
            "\n",
            "Epoch 00034: LearningRateScheduler setting learning rate to 0.0002602585.\n",
            "60000/60000 [==============================] - 6s 92us/step - loss: 0.0223 - acc: 0.9957 - val_loss: 0.0310 - val_acc: 0.9926\n",
            "\n",
            "Epoch 00034: val_acc did not improve from 0.99440\n",
            "Epoch 35/40\n",
            "\n",
            "Epoch 00035: LearningRateScheduler setting learning rate to 0.00025325.\n",
            "60000/60000 [==============================] - 5s 92us/step - loss: 0.0222 - acc: 0.9957 - val_loss: 0.0332 - val_acc: 0.9930\n",
            "\n",
            "Epoch 00035: val_acc did not improve from 0.99440\n",
            "Epoch 36/40\n",
            "\n",
            "Epoch 00036: LearningRateScheduler setting learning rate to 0.0002466091.\n",
            "60000/60000 [==============================] - 5s 92us/step - loss: 0.0229 - acc: 0.9952 - val_loss: 0.0372 - val_acc: 0.9910\n",
            "\n",
            "Epoch 00036: val_acc did not improve from 0.99440\n",
            "Epoch 37/40\n",
            "\n",
            "Epoch 00037: LearningRateScheduler setting learning rate to 0.0002403076.\n",
            "60000/60000 [==============================] - 6s 92us/step - loss: 0.0197 - acc: 0.9965 - val_loss: 0.0295 - val_acc: 0.9934\n",
            "\n",
            "Epoch 00037: val_acc did not improve from 0.99440\n",
            "Epoch 38/40\n",
            "\n",
            "Epoch 00038: LearningRateScheduler setting learning rate to 0.0002343201.\n",
            "60000/60000 [==============================] - 5s 92us/step - loss: 0.0208 - acc: 0.9960 - val_loss: 0.0282 - val_acc: 0.9941\n",
            "\n",
            "Epoch 00038: val_acc did not improve from 0.99440\n",
            "Epoch 39/40\n",
            "\n",
            "Epoch 00039: LearningRateScheduler setting learning rate to 0.0002286237.\n",
            "60000/60000 [==============================] - 5s 92us/step - loss: 0.0196 - acc: 0.9964 - val_loss: 0.0350 - val_acc: 0.9919\n",
            "\n",
            "Epoch 00039: val_acc did not improve from 0.99440\n",
            "Epoch 40/40\n",
            "\n",
            "Epoch 00040: LearningRateScheduler setting learning rate to 0.0002231977.\n",
            "60000/60000 [==============================] - 5s 92us/step - loss: 0.0194 - acc: 0.9960 - val_loss: 0.0298 - val_acc: 0.9937\n",
            "\n",
            "Epoch 00040: val_acc did not improve from 0.99440\n"
          ],
          "name": "stdout"
        },
        {
          "output_type": "execute_result",
          "data": {
            "text/plain": [
              "<keras.callbacks.History at 0x7feed0327fd0>"
            ]
          },
          "metadata": {
            "tags": []
          },
          "execution_count": 26
        }
      ]
    },
    {
      "cell_type": "markdown",
      "metadata": {
        "id": "V0uLjVLlQRSH",
        "colab_type": "text"
      },
      "source": [
        "In this cell we evaluate our trained model whose output will be accuracy and loss on the test dataset."
      ]
    },
    {
      "cell_type": "code",
      "metadata": {
        "id": "Sst4KneiyOL5",
        "colab_type": "code",
        "colab": {}
      },
      "source": [
        "from keras.models import load_model\n",
        "\n",
        "model = load_model('saved.hdf5')\n",
        "score = model.evaluate(testX, testy, verbose=0)\n"
      ],
      "execution_count": 0,
      "outputs": []
    },
    {
      "cell_type": "markdown",
      "metadata": {
        "id": "vY_80CZcQSDV",
        "colab_type": "text"
      },
      "source": [
        "Print the score calculated in previous cell"
      ]
    },
    {
      "cell_type": "code",
      "metadata": {
        "id": "CfJiXOKsyj4y",
        "colab_type": "code",
        "colab": {
          "base_uri": "https://localhost:8080/",
          "height": 34
        },
        "outputId": "4e76179a-53b2-4b5e-a32c-4fbde7a5300b"
      },
      "source": [
        "print(score)"
      ],
      "execution_count": 31,
      "outputs": [
        {
          "output_type": "stream",
          "text": [
            "[0.03103734110891819, 0.9944]\n"
          ],
          "name": "stdout"
        }
      ]
    },
    {
      "cell_type": "markdown",
      "metadata": {
        "id": "cJKjpZ8cQTGw",
        "colab_type": "text"
      },
      "source": [
        "Here we are creating a new list y_pred and initilizing it with prediction values of each test image by our model in categorical form."
      ]
    },
    {
      "cell_type": "code",
      "metadata": {
        "id": "hwLSXt7nyn_0",
        "colab_type": "code",
        "colab": {}
      },
      "source": [
        "y_pred = model.predict(testX)"
      ],
      "execution_count": 0,
      "outputs": []
    },
    {
      "cell_type": "markdown",
      "metadata": {
        "id": "FZcnfb1CQT8u",
        "colab_type": "text"
      },
      "source": [
        "printing the prediction and actual class of first 10 test images"
      ]
    },
    {
      "cell_type": "code",
      "metadata": {
        "id": "WWKKoOKwyppN",
        "colab_type": "code",
        "colab": {
          "base_uri": "https://localhost:8080/",
          "height": 493
        },
        "outputId": "a4de2a28-8d6f-4c66-c29f-305d24e1b173"
      },
      "source": [
        "print(y_pred[:9])\n",
        "print(y_test[:9])"
      ],
      "execution_count": 33,
      "outputs": [
        {
          "output_type": "stream",
          "text": [
            "[[3.91495547e-09 2.48158415e-07 1.39057974e-08 2.63561333e-07\n",
            "  3.91495547e-09 3.91495547e-09 3.91495547e-09 9.99999523e-01\n",
            "  3.91495547e-09 3.31162333e-08]\n",
            " [6.41292354e-05 9.98516916e-04 9.98892844e-01 1.75904472e-06\n",
            "  1.75904472e-06 1.75904472e-06 3.39555809e-05 1.75904472e-06\n",
            "  1.75904472e-06 1.75904472e-06]\n",
            " [1.43134912e-07 9.99991775e-01 1.43134912e-07 1.43134912e-07\n",
            "  1.24803125e-06 1.43134912e-07 2.28798314e-07 6.05396053e-06\n",
            "  1.43134912e-07 1.43134912e-07]\n",
            " [9.99696970e-01 1.56029319e-06 1.56029319e-06 1.56029319e-06\n",
            "  1.56029319e-06 1.56029319e-06 2.38779176e-04 1.56029319e-06\n",
            "  1.97396844e-06 5.29941935e-05]\n",
            " [1.41194732e-07 3.95645611e-06 1.41194732e-07 1.41194732e-07\n",
            "  9.99977946e-01 1.41194732e-07 1.41194732e-07 1.98180629e-07\n",
            "  1.41194732e-07 1.70103012e-05]\n",
            " [6.50985044e-08 9.99985695e-01 6.50985044e-08 6.50985044e-08\n",
            "  7.40024291e-07 6.50985044e-08 6.50985044e-08 1.31060024e-05\n",
            "  6.50985044e-08 1.08147354e-07]\n",
            " [1.50173537e-06 1.48207919e-05 1.50173537e-06 1.50173537e-06\n",
            "  9.99319911e-01 1.50173537e-06 1.50173537e-06 9.59688186e-05\n",
            "  2.20660095e-05 5.39778091e-04]\n",
            " [4.11190939e-07 4.11190939e-07 6.95000062e-06 4.11190939e-07\n",
            "  1.26794228e-04 4.11190939e-07 4.11190939e-07 5.91792684e-07\n",
            "  1.40167376e-05 9.99849558e-01]\n",
            " [7.30436761e-04 8.76727645e-05 8.76727645e-05 8.76727645e-05\n",
            "  8.76727645e-05 9.78929222e-01 1.79499015e-02 8.76727645e-05\n",
            "  1.74371328e-03 2.08412021e-04]]\n",
            "[7 2 1 0 4 1 4 9 5]\n"
          ],
          "name": "stdout"
        }
      ]
    },
    {
      "cell_type": "code",
      "metadata": {
        "id": "eTvYfJaX1hew",
        "colab_type": "code",
        "colab": {
          "base_uri": "https://localhost:8080/",
          "height": 1626
        },
        "outputId": "d53155d6-d4e8-410e-bb2c-c4d5e4245807"
      },
      "source": [
        "\n",
        "predicted_classes = model.predict_classes(testX)\n",
        "correct_indices = np.nonzero(predicted_classes == y_test)[0]\n",
        "incorrect_indices = np.nonzero(predicted_classes != y_test)[0]\n",
        "print(len(correct_indices),\" classified correctly\")\n",
        "print(len(incorrect_indices),\" classified incorrectly\")\n",
        "\n",
        "\n",
        "plt.rcParams['figure.figsize'] = (20,30)\n",
        "\n",
        "figure_evaluation = plt.figure()\n",
        "\n",
        "# plot 25 incorrect predictions\n",
        "for i, incorrect in enumerate(incorrect_indices[:25]):\n",
        "    plt.subplot(5,5,i+1)\n",
        "    plt.imshow(testX[incorrect].reshape(28,28), cmap='gray', interpolation='none')\n",
        "    plt.title(\n",
        "      \"Predicted {}, Truth: {}\".format(predicted_classes[incorrect], \n",
        "                                       y_test[incorrect]))\n",
        "    plt.xticks([])\n",
        "    plt.yticks([])\n"
      ],
      "execution_count": 35,
      "outputs": [
        {
          "output_type": "stream",
          "text": [
            "9944  classified correctly\n",
            "56  classified incorrectly\n"
          ],
          "name": "stdout"
        },
        {
          "output_type": "display_data",
          "data": {
            "image/png": "[encoded data removed]",
            "text/plain": [
              "<Figure size 1440x2160 with 25 Axes>"
            ]
          },
          "metadata": {
            "tags": []
          }
        }
      ]
    },
    {
      "cell_type": "code",
      "metadata": {
        "id": "Tsgq3orGcUyt",
        "colab_type": "code",
        "colab": {}
      },
      "source": [
        ""
      ],
      "execution_count": 0,
      "outputs": []
    }
  ]
}