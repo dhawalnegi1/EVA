{
  "nbformat": 4,
  "nbformat_minor": 0,
  "metadata": {
    "colab": {
      "name": "Assignment6-with-cutout.ipynb",
      "version": "0.3.2",
      "provenance": [],
      "collapsed_sections": [],
      "include_colab_link": true
    },
    "kernelspec": {
      "name": "python3",
      "display_name": "Python 3"
    },
    "accelerator": "GPU"
  },
  "cells": [
    {
      "cell_type": "markdown",
      "metadata": {
        "id": "view-in-github",
        "colab_type": "text"
      },
      "source": [
        "<a href=\"https://colab.research.google.com/github/dhawalnegi1/EVA/blob/master/Project9/Assignment6_with_cutout.ipynb\" target=\"_parent\"><img src=\"https://colab.research.google.com/assets/colab-badge.svg\" alt=\"Open In Colab\"/></a>"
      ]
    },
    {
      "cell_type": "markdown",
      "metadata": {
        "id": "_KUdPq2Rf_d6",
        "colab_type": "text"
      },
      "source": [
        "Import all the requirments "
      ]
    },
    {
      "cell_type": "code",
      "metadata": {
        "id": "0kGJ2pNDaoAy",
        "colab_type": "code",
        "outputId": "53c585c9-0234-4365-de97-96f87731f47d",
        "colab": {
          "base_uri": "https://localhost:8080/",
          "height": 34
        }
      },
      "source": [
        "from google.colab import drive\n",
        "drive.mount('/content/gdrive')\n",
        "import sys\n",
        "import os\n",
        "sys.path.append(\"/content/gdrive/My Drive/Colab Notebooks/EVA/Assingment9\")\n",
        "working_path = '/content/gdrive/My Drive/Colab Notebooks/EVA/Assingment9'"
      ],
      "execution_count": 0,
      "outputs": [
        {
          "output_type": "stream",
          "text": [
            "Drive already mounted at /content/gdrive; to attempt to forcibly remount, call drive.mount(\"/content/gdrive\", force_remount=True).\n"
          ],
          "name": "stdout"
        }
      ]
    },
    {
      "cell_type": "code",
      "metadata": {
        "id": "EVYy_aDfbU3E",
        "colab_type": "code",
        "outputId": "a56746dd-9496-4ede-ff93-bac34b7353e4",
        "colab": {
          "base_uri": "https://localhost:8080/",
          "height": 34
        }
      },
      "source": [
        "!ls content/gdrive"
      ],
      "execution_count": 0,
      "outputs": [
        {
          "output_type": "stream",
          "text": [
            "ls: cannot access 'content/gdrive': No such file or directory\n"
          ],
          "name": "stdout"
        }
      ]
    },
    {
      "cell_type": "code",
      "metadata": {
        "id": "KkwXnw9OfHZl",
        "colab_type": "code",
        "outputId": "12597cc2-cc18-45cd-e0e1-f4edf75785ab",
        "colab": {
          "base_uri": "https://localhost:8080/",
          "height": 34
        }
      },
      "source": [
        "from keras import backend as K\n",
        "import time\n",
        "import matplotlib.pyplot as plt\n",
        "import numpy as np\n",
        "% matplotlib inline\n",
        "np.random.seed(2017) \n",
        "from keras.models import Sequential\n",
        "from keras.layers.convolutional import Convolution2D, MaxPooling2D\n",
        "from keras.layers import Activation, Flatten, Dense, Dropout\n",
        "from keras.layers.normalization import BatchNormalization\n",
        "from keras.utils import np_utils"
      ],
      "execution_count": 0,
      "outputs": [
        {
          "output_type": "stream",
          "text": [
            "Using TensorFlow backend.\n"
          ],
          "name": "stderr"
        }
      ]
    },
    {
      "cell_type": "markdown",
      "metadata": {
        "id": "oloaUqwqgGHW",
        "colab_type": "text"
      },
      "source": [
        "Import the cifar dataset and store in the variables for training and test purpose."
      ]
    },
    {
      "cell_type": "code",
      "metadata": {
        "id": "NHpnoCHZfO8g",
        "colab_type": "code",
        "outputId": "286d70e4-1e3c-408e-e6b2-5ad5da10694d",
        "colab": {
          "base_uri": "https://localhost:8080/",
          "height": 34
        }
      },
      "source": [
        "from keras.datasets import cifar10\n",
        "(train_features, train_labels), (test_features, test_labels) = cifar10.load_data()\n",
        "num_train, img_channels, img_rows, img_cols =  train_features.shape\n",
        "num_test, _, _, _ =  test_features.shape\n",
        "num_classes = len(np.unique(test_labels))\n",
        "print(num_classes)"
      ],
      "execution_count": 0,
      "outputs": [
        {
          "output_type": "stream",
          "text": [
            "10\n"
          ],
          "name": "stdout"
        }
      ]
    },
    {
      "cell_type": "markdown",
      "metadata": {
        "id": "llnlVBxMgZY0",
        "colab_type": "text"
      },
      "source": [
        "Plot 1 image of each class and lable it."
      ]
    },
    {
      "cell_type": "code",
      "metadata": {
        "id": "14HyBUXdfS6G",
        "colab_type": "code",
        "outputId": "0336a9f6-9766-47e2-d12c-621d71fabc3a",
        "colab": {
          "base_uri": "https://localhost:8080/",
          "height": 213
        }
      },
      "source": [
        "class_names = ['airplane','automobile','bird','cat','deer',\n",
        "               'dog','frog','horse','ship','truck']\n",
        "fig = plt.figure(figsize=(8,3))\n",
        "for i in range(num_classes):\n",
        "    ax = fig.add_subplot(2, 5, 1 + i, xticks=[], yticks=[])\n",
        "    idx = np.where(train_labels[:]==i)[0]\n",
        "    features_idx = train_features[idx,::]\n",
        "    img_num = np.random.randint(features_idx.shape[0])\n",
        "    im = features_idx[img_num]\n",
        "    ax.set_title(class_names[i])\n",
        "    plt.imshow(im)\n",
        "plt.show()"
      ],
      "execution_count": 0,
      "outputs": [
        {
          "output_type": "display_data",
          "data": {
            "image/png": "[encoded data removed]",
            "text/plain": [
              "<Figure size 576x216 with 10 Axes>"
            ]
          },
          "metadata": {
            "tags": []
          }
        }
      ]
    },
    {
      "cell_type": "markdown",
      "metadata": {
        "id": "m3jVgE_sgrvp",
        "colab_type": "text"
      },
      "source": [
        "Function plot_model_history to plot the graph of comparision of accuracies and loss with no of epocs."
      ]
    },
    {
      "cell_type": "code",
      "metadata": {
        "id": "bmfsk76-fadV",
        "colab_type": "code",
        "colab": {}
      },
      "source": [
        "def plot_model_history(model_history):\n",
        "    fig, axs = plt.subplots(1,2,figsize=(15,5))\n",
        "    # summarize history for accuracy\n",
        "    axs[0].plot(range(1,len(model_history.history['acc'])+1),model_history.history['acc'])\n",
        "    axs[0].plot(range(1,len(model_history.history['val_acc'])+1),model_history.history['val_acc'])\n",
        "    axs[0].set_title('Model Accuracy')\n",
        "    axs[0].set_ylabel('Accuracy')\n",
        "    axs[0].set_xlabel('Epoch')\n",
        "    axs[0].set_xticks(np.arange(1,len(model_history.history['acc'])+1),len(model_history.history['acc'])/10)\n",
        "    axs[0].legend(['train', 'val'], loc='best')\n",
        "    # summarize history for loss\n",
        "    axs[1].plot(range(1,len(model_history.history['loss'])+1),model_history.history['loss'])\n",
        "    axs[1].plot(range(1,len(model_history.history['val_loss'])+1),model_history.history['val_loss'])\n",
        "    axs[1].set_title('Model Loss')\n",
        "    axs[1].set_ylabel('Loss')\n",
        "    axs[1].set_xlabel('Epoch')\n",
        "    axs[1].set_xticks(np.arange(1,len(model_history.history['loss'])+1),len(model_history.history['loss'])/10)\n",
        "    axs[1].legend(['train', 'val'], loc='best')\n",
        "    plt.show()"
      ],
      "execution_count": 0,
      "outputs": []
    },
    {
      "cell_type": "markdown",
      "metadata": {
        "id": "FFisON1bh9ME",
        "colab_type": "text"
      },
      "source": [
        "Function accuracy is defined to calculate the validation accuracy by finding total no of images classfied correctly"
      ]
    },
    {
      "cell_type": "code",
      "metadata": {
        "id": "YJMT4rjgfdZz",
        "colab_type": "code",
        "colab": {}
      },
      "source": [
        "def accuracy(test_x, test_y, model):\n",
        "    result = model.predict(test_x)\n",
        "    predicted_class = np.argmax(result, axis=1)\n",
        "    true_class = np.argmax(test_y, axis=1)\n",
        "    num_correct = np.sum(predicted_class == true_class) \n",
        "    accuracy = float(num_correct)/result.shape[0]\n",
        "    return (accuracy * 100)"
      ],
      "execution_count": 0,
      "outputs": []
    },
    {
      "cell_type": "markdown",
      "metadata": {
        "id": "DYA3YkqTh8FO",
        "colab_type": "text"
      },
      "source": [
        "Pixel Normalisation is done for training and testing data.\n",
        "And the class labels for training and testing data is converted into one-hot encoding."
      ]
    },
    {
      "cell_type": "code",
      "metadata": {
        "id": "T5c5nDvxm6zR",
        "colab_type": "code",
        "colab": {}
      },
      "source": [
        "train_features = train_features.astype('float32')/255\n",
        "test_features = test_features.astype('float32')/255\n",
        "# convert class labels to binary class labels\n",
        "train_labels = np_utils.to_categorical(train_labels, num_classes)\n",
        "test_labels = np_utils.to_categorical(test_labels, num_classes)"
      ],
      "execution_count": 0,
      "outputs": []
    },
    {
      "cell_type": "markdown",
      "metadata": {
        "id": "AkA56_BGivDB",
        "colab_type": "text"
      },
      "source": [
        "A sequential model with the architecture of [3 ,3 ,3 ,mp ,3 ,3 ,3 ,mp ,3 ,3 ,3 ] is made using different no. of kernelas and padding wherever required, and Receptive field is commented after every layer."
      ]
    },
    {
      "cell_type": "code",
      "metadata": {
        "id": "cSOb2lkJfhVq",
        "colab_type": "code",
        "outputId": "c21b008b-11bb-494b-d3d8-920ebf518765",
        "colab": {
          "base_uri": "https://localhost:8080/",
          "height": 547
        }
      },
      "source": [
        "# Define the model\n",
        "model = Sequential()\n",
        "model.add(Convolution2D(64, 3, 3, border_mode='same',use_bias=False, input_shape=(32, 32, 3))) #3\n",
        "model.add(BatchNormalization())\n",
        "model.add(Activation('relu'))\n",
        "model.add(Dropout(0.1))\n",
        "\n",
        "model.add(Convolution2D(64, 3, 3,use_bias=False))#5\n",
        "model.add(BatchNormalization())\n",
        "model.add(Activation('relu'))\n",
        "model.add(Dropout(0.1))\n",
        "\n",
        "model.add(Convolution2D(128, 3, 3,use_bias=False))#7\n",
        "model.add(BatchNormalization())\n",
        "model.add(Activation('relu'))\n",
        "model.add(Dropout(0.1))\n",
        "\n",
        "model.add(Convolution2D(64,1,use_bias=False))\n",
        "model.add(MaxPooling2D(pool_size=(2, 2)))#14\n",
        "\n",
        "model.add(Convolution2D(64, 3, 3, border_mode='same',use_bias=False))#16\n",
        "model.add(BatchNormalization())\n",
        "model.add(Activation('relu'))\n",
        "model.add(Dropout(0.1))\n",
        "\n",
        "model.add(Convolution2D(64, 3, 3,use_bias=False))#18\n",
        "model.add(BatchNormalization())\n",
        "model.add(Activation('relu'))\n",
        "model.add(Dropout(0.1))\n",
        "\n",
        "model.add(Convolution2D(128, 3, 3,use_bias=False))#20\n",
        "model.add(BatchNormalization())\n",
        "model.add(Activation('relu'))\n",
        "model.add(Dropout(0.1))\n",
        "\n",
        "model.add(Convolution2D(64,1,use_bias=False))\n",
        "model.add(MaxPooling2D(pool_size=(2, 2)))#40\n",
        "\n",
        "model.add(Convolution2D(64, 3, 3, border_mode='same',use_bias=False))#42\n",
        "model.add(BatchNormalization())\n",
        "model.add(Activation('relu'))\n",
        "model.add(Dropout(0.1))\n",
        "\n",
        "model.add(Convolution2D(64, 3, 3,use_bias=False))#44\n",
        "model.add(BatchNormalization())\n",
        "model.add(Activation('relu'))\n",
        "model.add(Dropout(0.1))\n",
        "\n",
        "model.add(Convolution2D(128, 3, 3,use_bias=False))#46\n",
        "model.add(BatchNormalization())\n",
        "model.add(Activation('relu'))\n",
        "model.add(Dropout(0.1))\n",
        "\n",
        "model.add(Convolution2D(10,1,use_bias=False))\n",
        "\n",
        "model.add(Flatten())\n",
        "model.add(Activation('softmax'))"
      ],
      "execution_count": 0,
      "outputs": [
        {
          "output_type": "stream",
          "text": [
            "WARNING: Logging before flag parsing goes to stderr.\n",
            "W0709 09:28:08.013674 139808134858624 deprecation_wrapper.py:119] From /usr/local/lib/python3.6/dist-packages/keras/backend/tensorflow_backend.py:74: The name tf.get_default_graph is deprecated. Please use tf.compat.v1.get_default_graph instead.\n",
            "\n",
            "/usr/local/lib/python3.6/dist-packages/ipykernel_launcher.py:2: UserWarning: Update your `Conv2D` call to the Keras 2 API: `Conv2D(64, (3, 3), use_bias=False, input_shape=(32, 32, 3..., padding=\"same\")`\n",
            "  \n",
            "W0709 09:28:08.034927 139808134858624 deprecation_wrapper.py:119] From /usr/local/lib/python3.6/dist-packages/keras/backend/tensorflow_backend.py:517: The name tf.placeholder is deprecated. Please use tf.compat.v1.placeholder instead.\n",
            "\n",
            "W0709 09:28:08.038284 139808134858624 deprecation_wrapper.py:119] From /usr/local/lib/python3.6/dist-packages/keras/backend/tensorflow_backend.py:4138: The name tf.random_uniform is deprecated. Please use tf.random.uniform instead.\n",
            "\n",
            "W0709 09:28:08.068306 139808134858624 deprecation_wrapper.py:119] From /usr/local/lib/python3.6/dist-packages/keras/backend/tensorflow_backend.py:174: The name tf.get_default_session is deprecated. Please use tf.compat.v1.get_default_session instead.\n",
            "\n",
            "W0709 09:28:08.069536 139808134858624 deprecation_wrapper.py:119] From /usr/local/lib/python3.6/dist-packages/keras/backend/tensorflow_backend.py:181: The name tf.ConfigProto is deprecated. Please use tf.compat.v1.ConfigProto instead.\n",
            "\n",
            "W0709 09:28:08.632074 139808134858624 deprecation_wrapper.py:119] From /usr/local/lib/python3.6/dist-packages/keras/backend/tensorflow_backend.py:1834: The name tf.nn.fused_batch_norm is deprecated. Please use tf.compat.v1.nn.fused_batch_norm instead.\n",
            "\n",
            "W0709 09:28:08.803117 139808134858624 deprecation.py:506] From /usr/local/lib/python3.6/dist-packages/keras/backend/tensorflow_backend.py:3445: calling dropout (from tensorflow.python.ops.nn_ops) with keep_prob is deprecated and will be removed in a future version.\n",
            "Instructions for updating:\n",
            "Please use `rate` instead of `keep_prob`. Rate should be set to `rate = 1 - keep_prob`.\n",
            "/usr/local/lib/python3.6/dist-packages/ipykernel_launcher.py:7: UserWarning: Update your `Conv2D` call to the Keras 2 API: `Conv2D(64, (3, 3), use_bias=False)`\n",
            "  import sys\n",
            "/usr/local/lib/python3.6/dist-packages/ipykernel_launcher.py:12: UserWarning: Update your `Conv2D` call to the Keras 2 API: `Conv2D(128, (3, 3), use_bias=False)`\n",
            "  if sys.path[0] == '':\n",
            "W0709 09:28:09.072174 139808134858624 deprecation_wrapper.py:119] From /usr/local/lib/python3.6/dist-packages/keras/backend/tensorflow_backend.py:3976: The name tf.nn.max_pool is deprecated. Please use tf.nn.max_pool2d instead.\n",
            "\n",
            "/usr/local/lib/python3.6/dist-packages/ipykernel_launcher.py:20: UserWarning: Update your `Conv2D` call to the Keras 2 API: `Conv2D(64, (3, 3), use_bias=False, padding=\"same\")`\n",
            "/usr/local/lib/python3.6/dist-packages/ipykernel_launcher.py:25: UserWarning: Update your `Conv2D` call to the Keras 2 API: `Conv2D(64, (3, 3), use_bias=False)`\n",
            "/usr/local/lib/python3.6/dist-packages/ipykernel_launcher.py:30: UserWarning: Update your `Conv2D` call to the Keras 2 API: `Conv2D(128, (3, 3), use_bias=False)`\n",
            "/usr/local/lib/python3.6/dist-packages/ipykernel_launcher.py:38: UserWarning: Update your `Conv2D` call to the Keras 2 API: `Conv2D(64, (3, 3), use_bias=False, padding=\"same\")`\n",
            "/usr/local/lib/python3.6/dist-packages/ipykernel_launcher.py:43: UserWarning: Update your `Conv2D` call to the Keras 2 API: `Conv2D(64, (3, 3), use_bias=False)`\n",
            "/usr/local/lib/python3.6/dist-packages/ipykernel_launcher.py:48: UserWarning: Update your `Conv2D` call to the Keras 2 API: `Conv2D(128, (3, 3), use_bias=False)`\n"
          ],
          "name": "stderr"
        }
      ]
    },
    {
      "cell_type": "markdown",
      "metadata": {
        "id": "F6-q4OWhjtOE",
        "colab_type": "text"
      },
      "source": [
        "Model is compiled and its summary is printed."
      ]
    },
    {
      "cell_type": "code",
      "metadata": {
        "id": "wvVs5tC8mR6Q",
        "colab_type": "code",
        "outputId": "554537a7-0abc-45c5-99b0-6bf13aae6d8b",
        "colab": {
          "base_uri": "https://localhost:8080/",
          "height": 1000
        }
      },
      "source": [
        "model.compile(optimizer='adam', loss='categorical_crossentropy', metrics=['accuracy'])\n",
        "model.summary()"
      ],
      "execution_count": 0,
      "outputs": [
        {
          "output_type": "stream",
          "text": [
            "W0709 09:28:11.850659 139808134858624 deprecation_wrapper.py:119] From /usr/local/lib/python3.6/dist-packages/keras/optimizers.py:790: The name tf.train.Optimizer is deprecated. Please use tf.compat.v1.train.Optimizer instead.\n",
            "\n"
          ],
          "name": "stderr"
        },
        {
          "output_type": "stream",
          "text": [
            "_________________________________________________________________\n",
            "Layer (type)                 Output Shape              Param #   \n",
            "=================================================================\n",
            "conv2d_1 (Conv2D)            (None, 32, 32, 64)        1728      \n",
            "_________________________________________________________________\n",
            "batch_normalization_1 (Batch (None, 32, 32, 64)        256       \n",
            "_________________________________________________________________\n",
            "activation_1 (Activation)    (None, 32, 32, 64)        0         \n",
            "_________________________________________________________________\n",
            "dropout_1 (Dropout)          (None, 32, 32, 64)        0         \n",
            "_________________________________________________________________\n",
            "conv2d_2 (Conv2D)            (None, 30, 30, 64)        36864     \n",
            "_________________________________________________________________\n",
            "batch_normalization_2 (Batch (None, 30, 30, 64)        256       \n",
            "_________________________________________________________________\n",
            "activation_2 (Activation)    (None, 30, 30, 64)        0         \n",
            "_________________________________________________________________\n",
            "dropout_2 (Dropout)          (None, 30, 30, 64)        0         \n",
            "_________________________________________________________________\n",
            "conv2d_3 (Conv2D)            (None, 28, 28, 128)       73728     \n",
            "_________________________________________________________________\n",
            "batch_normalization_3 (Batch (None, 28, 28, 128)       512       \n",
            "_________________________________________________________________\n",
            "activation_3 (Activation)    (None, 28, 28, 128)       0         \n",
            "_________________________________________________________________\n",
            "dropout_3 (Dropout)          (None, 28, 28, 128)       0         \n",
            "_________________________________________________________________\n",
            "conv2d_4 (Conv2D)            (None, 28, 28, 64)        8192      \n",
            "_________________________________________________________________\n",
            "max_pooling2d_1 (MaxPooling2 (None, 14, 14, 64)        0         \n",
            "_________________________________________________________________\n",
            "conv2d_5 (Conv2D)            (None, 14, 14, 64)        36864     \n",
            "_________________________________________________________________\n",
            "batch_normalization_4 (Batch (None, 14, 14, 64)        256       \n",
            "_________________________________________________________________\n",
            "activation_4 (Activation)    (None, 14, 14, 64)        0         \n",
            "_________________________________________________________________\n",
            "dropout_4 (Dropout)          (None, 14, 14, 64)        0         \n",
            "_________________________________________________________________\n",
            "conv2d_6 (Conv2D)            (None, 12, 12, 64)        36864     \n",
            "_________________________________________________________________\n",
            "batch_normalization_5 (Batch (None, 12, 12, 64)        256       \n",
            "_________________________________________________________________\n",
            "activation_5 (Activation)    (None, 12, 12, 64)        0         \n",
            "_________________________________________________________________\n",
            "dropout_5 (Dropout)          (None, 12, 12, 64)        0         \n",
            "_________________________________________________________________\n",
            "conv2d_7 (Conv2D)            (None, 10, 10, 128)       73728     \n",
            "_________________________________________________________________\n",
            "batch_normalization_6 (Batch (None, 10, 10, 128)       512       \n",
            "_________________________________________________________________\n",
            "activation_6 (Activation)    (None, 10, 10, 128)       0         \n",
            "_________________________________________________________________\n",
            "dropout_6 (Dropout)          (None, 10, 10, 128)       0         \n",
            "_________________________________________________________________\n",
            "conv2d_8 (Conv2D)            (None, 10, 10, 64)        8192      \n",
            "_________________________________________________________________\n",
            "max_pooling2d_2 (MaxPooling2 (None, 5, 5, 64)          0         \n",
            "_________________________________________________________________\n",
            "conv2d_9 (Conv2D)            (None, 5, 5, 64)          36864     \n",
            "_________________________________________________________________\n",
            "batch_normalization_7 (Batch (None, 5, 5, 64)          256       \n",
            "_________________________________________________________________\n",
            "activation_7 (Activation)    (None, 5, 5, 64)          0         \n",
            "_________________________________________________________________\n",
            "dropout_7 (Dropout)          (None, 5, 5, 64)          0         \n",
            "_________________________________________________________________\n",
            "conv2d_10 (Conv2D)           (None, 3, 3, 64)          36864     \n",
            "_________________________________________________________________\n",
            "batch_normalization_8 (Batch (None, 3, 3, 64)          256       \n",
            "_________________________________________________________________\n",
            "activation_8 (Activation)    (None, 3, 3, 64)          0         \n",
            "_________________________________________________________________\n",
            "dropout_8 (Dropout)          (None, 3, 3, 64)          0         \n",
            "_________________________________________________________________\n",
            "conv2d_11 (Conv2D)           (None, 1, 1, 128)         73728     \n",
            "_________________________________________________________________\n",
            "batch_normalization_9 (Batch (None, 1, 1, 128)         512       \n",
            "_________________________________________________________________\n",
            "activation_9 (Activation)    (None, 1, 1, 128)         0         \n",
            "_________________________________________________________________\n",
            "dropout_9 (Dropout)          (None, 1, 1, 128)         0         \n",
            "_________________________________________________________________\n",
            "conv2d_12 (Conv2D)           (None, 1, 1, 10)          1280      \n",
            "_________________________________________________________________\n",
            "flatten_1 (Flatten)          (None, 10)                0         \n",
            "_________________________________________________________________\n",
            "activation_10 (Activation)   (None, 10)                0         \n",
            "=================================================================\n",
            "Total params: 427,968\n",
            "Trainable params: 426,432\n",
            "Non-trainable params: 1,536\n",
            "_________________________________________________________________\n"
          ],
          "name": "stdout"
        }
      ]
    },
    {
      "cell_type": "code",
      "metadata": {
        "id": "RLropInJDSHC",
        "colab_type": "code",
        "colab": {}
      },
      "source": [
        "def get_random_eraser(p=0.5, s_l=0.02, s_h=0.4, r_1=0.3, r_2=1/0.3, v_l=0, v_h=255, pixel_level=False):\n",
        "    def eraser(input_img):\n",
        "        img_h, img_w, img_c = input_img.shape\n",
        "        p_1 = np.random.rand()\n",
        "\n",
        "        if p_1 > p:\n",
        "            return input_img\n",
        "\n",
        "        while True:\n",
        "            s = np.random.uniform(s_l, s_h) * img_h * img_w\n",
        "            r = np.random.uniform(r_1, r_2)\n",
        "            w = int(np.sqrt(s / r))\n",
        "            h = int(np.sqrt(s * r))\n",
        "            left = np.random.randint(0, img_w)\n",
        "            top = np.random.randint(0, img_h)\n",
        "\n",
        "            if left + w <= img_w and top + h <= img_h:\n",
        "                break\n",
        "\n",
        "        if pixel_level:\n",
        "            c = np.random.uniform(v_l, v_h, (h, w, img_c))\n",
        "        else:\n",
        "            c = np.random.uniform(v_l, v_h)\n",
        "\n",
        "        input_img[top:top + h, left:left + w, :] = c\n",
        "\n",
        "        return input_img\n",
        "\n",
        "    return eraser"
      ],
      "execution_count": 0,
      "outputs": []
    },
    {
      "cell_type": "code",
      "metadata": {
        "id": "5oK_V7WyfsXX",
        "colab_type": "code",
        "outputId": "0a3ce5b9-43a9-4958-ada1-729f9579d09e",
        "colab": {
          "base_uri": "https://localhost:8080/",
          "height": 1000
        }
      },
      "source": [
        "from keras.preprocessing.image import ImageDataGenerator\n",
        "\n",
        "datagen = ImageDataGenerator(zoom_range=0.0, \n",
        "                             horizontal_flip=False,preprocessing_function=get_random_eraser(v_l=0, v_h=1, pixel_level=True))\n",
        "\n",
        "from keras.optimizers import Adam\n",
        "from keras.callbacks import LearningRateScheduler, ModelCheckpoint\n",
        "# train the model\n",
        "start = time.time()\n",
        "# Train the model\n",
        "filepath=working_path+\"/cutout.hdf5\"\n",
        "checkpoint = ModelCheckpoint(filepath, monitor='val_acc', verbose=1, save_best_only=True, mode='max')\n",
        "callbacks_list = [checkpoint]\n",
        "\n",
        "model_info = model.fit_generator(datagen.flow(train_features, train_labels, batch_size = 128),\n",
        "                                 samples_per_epoch = train_features.shape[0], nb_epoch = 100, \n",
        "                                 validation_data = (test_features, test_labels),callbacks= callbacks_list, verbose=1)\n",
        "end = time.time()\n",
        "print (\"Model took %0.2f seconds to train\"%(end - start))\n",
        "# plot model history\n",
        "plot_model_history(model_info)\n",
        "# compute test accuracy\n",
        "print (\"Accuracy on test data is: %0.2f\"%accuracy(test_features, test_labels, model))"
      ],
      "execution_count": 0,
      "outputs": [
        {
          "output_type": "stream",
          "text": [
            "/usr/local/lib/python3.6/dist-packages/ipykernel_launcher.py:17: UserWarning: The semantics of the Keras 2 argument `steps_per_epoch` is not the same as the Keras 1 argument `samples_per_epoch`. `steps_per_epoch` is the number of batches to draw from the generator at each epoch. Basically steps_per_epoch = samples_per_epoch/batch_size. Similarly `nb_val_samples`->`validation_steps` and `val_samples`->`steps` arguments have changed. Update your method calls accordingly.\n",
            "/usr/local/lib/python3.6/dist-packages/ipykernel_launcher.py:17: UserWarning: Update your `fit_generator` call to the Keras 2 API: `fit_generator(<keras_pre..., validation_data=(array([[[..., callbacks=[<keras.ca..., verbose=1, steps_per_epoch=390, epochs=100)`\n",
            "W0709 09:28:41.164472 139808134858624 deprecation.py:323] From /usr/local/lib/python3.6/dist-packages/tensorflow/python/ops/math_grad.py:1250: add_dispatch_support.<locals>.wrapper (from tensorflow.python.ops.array_ops) is deprecated and will be removed in a future version.\n",
            "Instructions for updating:\n",
            "Use tf.where in 2.0, which has the same broadcast rule as np.where\n"
          ],
          "name": "stderr"
        },
        {
          "output_type": "stream",
          "text": [
            "Epoch 1/100\n",
            "390/390 [==============================] - 50s 128ms/step - loss: 1.5989 - acc: 0.4146 - val_loss: 1.5612 - val_acc: 0.4543\n",
            "\n",
            "Epoch 00001: val_acc improved from -inf to 0.45430, saving model to /content/gdrive/My Drive/Colab Notebooks/EVA/Assingment9/cutout.hdf5\n",
            "Epoch 2/100\n",
            "390/390 [==============================] - 47s 121ms/step - loss: 1.1778 - acc: 0.5752 - val_loss: 1.2495 - val_acc: 0.5639\n",
            "\n",
            "Epoch 00002: val_acc improved from 0.45430 to 0.56390, saving model to /content/gdrive/My Drive/Colab Notebooks/EVA/Assingment9/cutout.hdf5\n",
            "Epoch 3/100\n",
            "390/390 [==============================] - 46s 119ms/step - loss: 0.9677 - acc: 0.6549 - val_loss: 1.4386 - val_acc: 0.5687\n",
            "\n",
            "Epoch 00003: val_acc improved from 0.56390 to 0.56870, saving model to /content/gdrive/My Drive/Colab Notebooks/EVA/Assingment9/cutout.hdf5\n",
            "Epoch 4/100\n",
            "390/390 [==============================] - 46s 119ms/step - loss: 0.8378 - acc: 0.7025 - val_loss: 1.3032 - val_acc: 0.5952\n",
            "\n",
            "Epoch 00004: val_acc improved from 0.56870 to 0.59520, saving model to /content/gdrive/My Drive/Colab Notebooks/EVA/Assingment9/cutout.hdf5\n",
            "Epoch 5/100\n",
            "390/390 [==============================] - 47s 120ms/step - loss: 0.7689 - acc: 0.7274 - val_loss: 1.7279 - val_acc: 0.5342\n",
            "\n",
            "Epoch 00005: val_acc did not improve from 0.59520\n",
            "Epoch 6/100\n",
            "390/390 [==============================] - 46s 119ms/step - loss: 0.7025 - acc: 0.7534 - val_loss: 0.7640 - val_acc: 0.7414\n",
            "\n",
            "Epoch 00006: val_acc improved from 0.59520 to 0.74140, saving model to /content/gdrive/My Drive/Colab Notebooks/EVA/Assingment9/cutout.hdf5\n",
            "Epoch 7/100\n",
            "390/390 [==============================] - 47s 119ms/step - loss: 0.6574 - acc: 0.7687 - val_loss: 0.7261 - val_acc: 0.7594\n",
            "\n",
            "Epoch 00007: val_acc improved from 0.74140 to 0.75940, saving model to /content/gdrive/My Drive/Colab Notebooks/EVA/Assingment9/cutout.hdf5\n",
            "Epoch 8/100\n",
            "390/390 [==============================] - 46s 119ms/step - loss: 0.6273 - acc: 0.7797 - val_loss: 0.8837 - val_acc: 0.7062\n",
            "\n",
            "Epoch 00008: val_acc did not improve from 0.75940\n",
            "Epoch 9/100\n",
            "390/390 [==============================] - 46s 119ms/step - loss: 0.5896 - acc: 0.7922 - val_loss: 0.8562 - val_acc: 0.7114\n",
            "\n",
            "Epoch 00009: val_acc did not improve from 0.75940\n",
            "Epoch 10/100\n",
            "390/390 [==============================] - 46s 119ms/step - loss: 0.5623 - acc: 0.8034 - val_loss: 0.6609 - val_acc: 0.7792\n",
            "\n",
            "Epoch 00010: val_acc improved from 0.75940 to 0.77920, saving model to /content/gdrive/My Drive/Colab Notebooks/EVA/Assingment9/cutout.hdf5\n",
            "Epoch 11/100\n",
            "390/390 [==============================] - 47s 119ms/step - loss: 0.5424 - acc: 0.8096 - val_loss: 0.7589 - val_acc: 0.7434\n",
            "\n",
            "Epoch 00011: val_acc did not improve from 0.77920\n",
            "Epoch 12/100\n",
            "390/390 [==============================] - 46s 119ms/step - loss: 0.5192 - acc: 0.8173 - val_loss: 0.7309 - val_acc: 0.7690\n",
            "\n",
            "Epoch 00012: val_acc did not improve from 0.77920\n",
            "Epoch 13/100\n",
            "390/390 [==============================] - 46s 119ms/step - loss: 0.4918 - acc: 0.8274 - val_loss: 0.5951 - val_acc: 0.8010\n",
            "\n",
            "Epoch 00013: val_acc improved from 0.77920 to 0.80100, saving model to /content/gdrive/My Drive/Colab Notebooks/EVA/Assingment9/cutout.hdf5\n",
            "Epoch 14/100\n",
            "390/390 [==============================] - 47s 119ms/step - loss: 0.4774 - acc: 0.8325 - val_loss: 0.7137 - val_acc: 0.7689\n",
            "\n",
            "Epoch 00014: val_acc did not improve from 0.80100\n",
            "Epoch 15/100\n",
            "390/390 [==============================] - 47s 119ms/step - loss: 0.4664 - acc: 0.8363 - val_loss: 0.7262 - val_acc: 0.7659\n",
            "\n",
            "Epoch 00015: val_acc did not improve from 0.80100\n",
            "Epoch 16/100\n",
            "390/390 [==============================] - 46s 119ms/step - loss: 0.4480 - acc: 0.8418 - val_loss: 0.5986 - val_acc: 0.7991\n",
            "\n",
            "Epoch 00016: val_acc did not improve from 0.80100\n",
            "Epoch 17/100\n",
            "390/390 [==============================] - 46s 119ms/step - loss: 0.4305 - acc: 0.8490 - val_loss: 0.5178 - val_acc: 0.8239\n",
            "\n",
            "Epoch 00017: val_acc improved from 0.80100 to 0.82390, saving model to /content/gdrive/My Drive/Colab Notebooks/EVA/Assingment9/cutout.hdf5\n",
            "Epoch 18/100\n",
            "390/390 [==============================] - 46s 119ms/step - loss: 0.4193 - acc: 0.8531 - val_loss: 0.8465 - val_acc: 0.7110\n",
            "\n",
            "Epoch 00018: val_acc did not improve from 0.82390\n",
            "Epoch 19/100\n",
            "390/390 [==============================] - 46s 119ms/step - loss: 0.4079 - acc: 0.8563 - val_loss: 0.5296 - val_acc: 0.8235\n",
            "\n",
            "Epoch 00019: val_acc did not improve from 0.82390\n",
            "Epoch 20/100\n",
            "390/390 [==============================] - 46s 119ms/step - loss: 0.3947 - acc: 0.8602 - val_loss: 0.9372 - val_acc: 0.7181\n",
            "\n",
            "Epoch 00020: val_acc did not improve from 0.82390\n",
            "Epoch 21/100\n",
            "390/390 [==============================] - 46s 119ms/step - loss: 0.3819 - acc: 0.8655 - val_loss: 0.6098 - val_acc: 0.7968\n",
            "\n",
            "Epoch 00021: val_acc did not improve from 0.82390\n",
            "Epoch 22/100\n",
            "390/390 [==============================] - 47s 119ms/step - loss: 0.3752 - acc: 0.8674 - val_loss: 0.8317 - val_acc: 0.7366\n",
            "\n",
            "Epoch 00022: val_acc did not improve from 0.82390\n",
            "Epoch 23/100\n",
            "390/390 [==============================] - 46s 119ms/step - loss: 0.3658 - acc: 0.8696 - val_loss: 0.5131 - val_acc: 0.8337\n",
            "\n",
            "Epoch 00023: val_acc improved from 0.82390 to 0.83370, saving model to /content/gdrive/My Drive/Colab Notebooks/EVA/Assingment9/cutout.hdf5\n",
            "Epoch 24/100\n",
            "390/390 [==============================] - 46s 119ms/step - loss: 0.3607 - acc: 0.8725 - val_loss: 0.6073 - val_acc: 0.8034\n",
            "\n",
            "Epoch 00024: val_acc did not improve from 0.83370\n",
            "Epoch 25/100\n",
            "390/390 [==============================] - 46s 119ms/step - loss: 0.3540 - acc: 0.8751 - val_loss: 0.5648 - val_acc: 0.8194\n",
            "\n",
            "Epoch 00025: val_acc did not improve from 0.83370\n",
            "Epoch 26/100\n",
            "390/390 [==============================] - 46s 119ms/step - loss: 0.3389 - acc: 0.8801 - val_loss: 0.5831 - val_acc: 0.8111\n",
            "\n",
            "Epoch 00026: val_acc did not improve from 0.83370\n",
            "Epoch 27/100\n",
            "390/390 [==============================] - 47s 119ms/step - loss: 0.3338 - acc: 0.8815 - val_loss: 0.6209 - val_acc: 0.8022\n",
            "\n",
            "Epoch 00027: val_acc did not improve from 0.83370\n",
            "Epoch 28/100\n",
            "390/390 [==============================] - 46s 119ms/step - loss: 0.3282 - acc: 0.8847 - val_loss: 0.6351 - val_acc: 0.7884\n",
            "\n",
            "Epoch 00028: val_acc did not improve from 0.83370\n",
            "Epoch 29/100\n",
            "390/390 [==============================] - 47s 119ms/step - loss: 0.3161 - acc: 0.8876 - val_loss: 0.5880 - val_acc: 0.8127\n",
            "\n",
            "Epoch 00029: val_acc did not improve from 0.83370\n",
            "Epoch 30/100\n",
            "390/390 [==============================] - 47s 119ms/step - loss: 0.3170 - acc: 0.8876 - val_loss: 0.5796 - val_acc: 0.8167\n",
            "\n",
            "Epoch 00030: val_acc did not improve from 0.83370\n",
            "Epoch 31/100\n",
            "390/390 [==============================] - 47s 120ms/step - loss: 0.3106 - acc: 0.8922 - val_loss: 0.4803 - val_acc: 0.8429\n",
            "\n",
            "Epoch 00031: val_acc improved from 0.83370 to 0.84290, saving model to /content/gdrive/My Drive/Colab Notebooks/EVA/Assingment9/cutout.hdf5\n",
            "Epoch 32/100\n",
            "390/390 [==============================] - 47s 119ms/step - loss: 0.3045 - acc: 0.8911 - val_loss: 0.5948 - val_acc: 0.8142\n",
            "\n",
            "Epoch 00032: val_acc did not improve from 0.84290\n",
            "Epoch 33/100\n",
            "390/390 [==============================] - 47s 120ms/step - loss: 0.3014 - acc: 0.8933 - val_loss: 0.5619 - val_acc: 0.8145\n",
            "\n",
            "Epoch 00033: val_acc did not improve from 0.84290\n",
            "Epoch 34/100\n",
            "390/390 [==============================] - 47s 119ms/step - loss: 0.2902 - acc: 0.8967 - val_loss: 0.5630 - val_acc: 0.8204\n",
            "\n",
            "Epoch 00034: val_acc did not improve from 0.84290\n",
            "Epoch 35/100\n",
            "390/390 [==============================] - 47s 120ms/step - loss: 0.2869 - acc: 0.8985 - val_loss: 0.5539 - val_acc: 0.8296\n",
            "\n",
            "Epoch 00035: val_acc did not improve from 0.84290\n",
            "Epoch 36/100\n",
            "390/390 [==============================] - 47s 119ms/step - loss: 0.2834 - acc: 0.8992 - val_loss: 0.6814 - val_acc: 0.8045\n",
            "\n",
            "Epoch 00036: val_acc did not improve from 0.84290\n",
            "Epoch 37/100\n",
            "390/390 [==============================] - 47s 119ms/step - loss: 0.2790 - acc: 0.9018 - val_loss: 0.6495 - val_acc: 0.8021\n",
            "\n",
            "Epoch 00037: val_acc did not improve from 0.84290\n",
            "Epoch 38/100\n",
            "390/390 [==============================] - 46s 119ms/step - loss: 0.2726 - acc: 0.9037 - val_loss: 0.5249 - val_acc: 0.8318\n",
            "\n",
            "Epoch 00038: val_acc did not improve from 0.84290\n",
            "Epoch 39/100\n",
            "390/390 [==============================] - 46s 119ms/step - loss: 0.2713 - acc: 0.9025 - val_loss: 0.5980 - val_acc: 0.8173\n",
            "\n",
            "Epoch 00039: val_acc did not improve from 0.84290\n",
            "Epoch 40/100\n",
            "390/390 [==============================] - 47s 120ms/step - loss: 0.2633 - acc: 0.9080 - val_loss: 0.4925 - val_acc: 0.8487\n",
            "\n",
            "Epoch 00040: val_acc improved from 0.84290 to 0.84870, saving model to /content/gdrive/My Drive/Colab Notebooks/EVA/Assingment9/cutout.hdf5\n",
            "Epoch 41/100\n",
            "390/390 [==============================] - 46s 119ms/step - loss: 0.2657 - acc: 0.9055 - val_loss: 0.5221 - val_acc: 0.8392\n",
            "\n",
            "Epoch 00041: val_acc did not improve from 0.84870\n",
            "Epoch 42/100\n",
            "390/390 [==============================] - 47s 120ms/step - loss: 0.2591 - acc: 0.9083 - val_loss: 0.5236 - val_acc: 0.8415\n",
            "\n",
            "Epoch 00042: val_acc did not improve from 0.84870\n",
            "Epoch 43/100\n",
            "390/390 [==============================] - 46s 119ms/step - loss: 0.2561 - acc: 0.9086 - val_loss: 0.5288 - val_acc: 0.8448\n",
            "\n",
            "Epoch 00043: val_acc did not improve from 0.84870\n",
            "Epoch 44/100\n",
            "390/390 [==============================] - 46s 119ms/step - loss: 0.2593 - acc: 0.9089 - val_loss: 0.4763 - val_acc: 0.8575\n",
            "\n",
            "Epoch 00044: val_acc improved from 0.84870 to 0.85750, saving model to /content/gdrive/My Drive/Colab Notebooks/EVA/Assingment9/cutout.hdf5\n",
            "Epoch 45/100\n",
            "390/390 [==============================] - 46s 119ms/step - loss: 0.2493 - acc: 0.9114 - val_loss: 0.5501 - val_acc: 0.8338\n",
            "\n",
            "Epoch 00045: val_acc did not improve from 0.85750\n",
            "Epoch 46/100\n",
            "390/390 [==============================] - 47s 120ms/step - loss: 0.2440 - acc: 0.9134 - val_loss: 0.5508 - val_acc: 0.8394\n",
            "\n",
            "Epoch 00046: val_acc did not improve from 0.85750\n",
            "Epoch 47/100\n",
            "390/390 [==============================] - 46s 119ms/step - loss: 0.2441 - acc: 0.9144 - val_loss: 0.5033 - val_acc: 0.8469\n",
            "\n",
            "Epoch 00047: val_acc did not improve from 0.85750\n",
            "Epoch 48/100\n",
            "390/390 [==============================] - 47s 119ms/step - loss: 0.2416 - acc: 0.9146 - val_loss: 0.5083 - val_acc: 0.8528\n",
            "\n",
            "Epoch 00048: val_acc did not improve from 0.85750\n",
            "Epoch 49/100\n",
            "390/390 [==============================] - 47s 119ms/step - loss: 0.2414 - acc: 0.9152 - val_loss: 0.6467 - val_acc: 0.8102\n",
            "\n",
            "Epoch 00049: val_acc did not improve from 0.85750\n",
            "Epoch 50/100\n",
            "390/390 [==============================] - 46s 119ms/step - loss: 0.2356 - acc: 0.9165 - val_loss: 0.4749 - val_acc: 0.8651\n",
            "\n",
            "Epoch 00050: val_acc improved from 0.85750 to 0.86510, saving model to /content/gdrive/My Drive/Colab Notebooks/EVA/Assingment9/cutout.hdf5\n",
            "Epoch 51/100\n",
            "390/390 [==============================] - 47s 120ms/step - loss: 0.2355 - acc: 0.9161 - val_loss: 0.5238 - val_acc: 0.8478\n",
            "\n",
            "Epoch 00051: val_acc did not improve from 0.86510\n",
            "Epoch 52/100\n",
            "390/390 [==============================] - 47s 119ms/step - loss: 0.2344 - acc: 0.9162 - val_loss: 0.7636 - val_acc: 0.7861\n",
            "\n",
            "Epoch 00052: val_acc did not improve from 0.86510\n",
            "Epoch 53/100\n",
            "390/390 [==============================] - 47s 119ms/step - loss: 0.2269 - acc: 0.9202 - val_loss: 0.6405 - val_acc: 0.8181\n",
            "\n",
            "Epoch 00053: val_acc did not improve from 0.86510\n",
            "Epoch 54/100\n",
            "390/390 [==============================] - 47s 119ms/step - loss: 0.2281 - acc: 0.9198 - val_loss: 0.6598 - val_acc: 0.7991\n",
            "\n",
            "Epoch 00054: val_acc did not improve from 0.86510\n",
            "Epoch 55/100\n",
            "390/390 [==============================] - 47s 120ms/step - loss: 0.2253 - acc: 0.9209 - val_loss: 0.5477 - val_acc: 0.8509\n",
            "\n",
            "Epoch 00055: val_acc did not improve from 0.86510\n",
            "Epoch 56/100\n",
            "390/390 [==============================] - 47s 119ms/step - loss: 0.2278 - acc: 0.9198 - val_loss: 0.6176 - val_acc: 0.8316\n",
            "\n",
            "Epoch 00056: val_acc did not improve from 0.86510\n",
            "Epoch 57/100\n",
            "390/390 [==============================] - 47s 120ms/step - loss: 0.2231 - acc: 0.9219 - val_loss: 0.5632 - val_acc: 0.8360\n",
            "\n",
            "Epoch 00057: val_acc did not improve from 0.86510\n",
            "Epoch 58/100\n",
            "390/390 [==============================] - 46s 119ms/step - loss: 0.2193 - acc: 0.9243 - val_loss: 0.5187 - val_acc: 0.8471\n",
            "\n",
            "Epoch 00058: val_acc did not improve from 0.86510\n",
            "Epoch 59/100\n",
            "390/390 [==============================] - 47s 119ms/step - loss: 0.2204 - acc: 0.9227 - val_loss: 0.6419 - val_acc: 0.8208\n",
            "\n",
            "Epoch 00059: val_acc did not improve from 0.86510\n",
            "Epoch 60/100\n",
            "390/390 [==============================] - 47s 120ms/step - loss: 0.2100 - acc: 0.9258 - val_loss: 0.5967 - val_acc: 0.8428\n",
            "\n",
            "Epoch 00060: val_acc did not improve from 0.86510\n",
            "Epoch 61/100\n",
            "390/390 [==============================] - 47s 119ms/step - loss: 0.2164 - acc: 0.9247 - val_loss: 0.5241 - val_acc: 0.8504\n",
            "\n",
            "Epoch 00061: val_acc did not improve from 0.86510\n",
            "Epoch 62/100\n",
            "390/390 [==============================] - 46s 119ms/step - loss: 0.2104 - acc: 0.9268 - val_loss: 0.5652 - val_acc: 0.8475\n",
            "\n",
            "Epoch 00062: val_acc did not improve from 0.86510\n",
            "Epoch 63/100\n",
            "390/390 [==============================] - 47s 120ms/step - loss: 0.2108 - acc: 0.9263 - val_loss: 0.7125 - val_acc: 0.8144\n",
            "\n",
            "Epoch 00063: val_acc did not improve from 0.86510\n",
            "Epoch 64/100\n",
            "390/390 [==============================] - 47s 120ms/step - loss: 0.2025 - acc: 0.9290 - val_loss: 0.5922 - val_acc: 0.8429\n",
            "\n",
            "Epoch 00064: val_acc did not improve from 0.86510\n",
            "Epoch 65/100\n",
            "390/390 [==============================] - 46s 119ms/step - loss: 0.2070 - acc: 0.9263 - val_loss: 0.5622 - val_acc: 0.8483\n",
            "\n",
            "Epoch 00065: val_acc did not improve from 0.86510\n",
            "Epoch 66/100\n",
            "390/390 [==============================] - 46s 119ms/step - loss: 0.2091 - acc: 0.9268 - val_loss: 0.5274 - val_acc: 0.8491\n",
            "\n",
            "Epoch 00066: val_acc did not improve from 0.86510\n",
            "Epoch 67/100\n",
            "390/390 [==============================] - 46s 119ms/step - loss: 0.2007 - acc: 0.9294 - val_loss: 0.5255 - val_acc: 0.8506\n",
            "\n",
            "Epoch 00067: val_acc did not improve from 0.86510\n",
            "Epoch 68/100\n",
            "390/390 [==============================] - 47s 120ms/step - loss: 0.2040 - acc: 0.9289 - val_loss: 0.4906 - val_acc: 0.8635\n",
            "\n",
            "Epoch 00068: val_acc did not improve from 0.86510\n",
            "Epoch 69/100\n",
            "390/390 [==============================] - 47s 120ms/step - loss: 0.2025 - acc: 0.9282 - val_loss: 0.5259 - val_acc: 0.8520\n",
            "\n",
            "Epoch 00069: val_acc did not improve from 0.86510\n",
            "Epoch 70/100\n",
            "390/390 [==============================] - 46s 119ms/step - loss: 0.2008 - acc: 0.9310 - val_loss: 0.5542 - val_acc: 0.8427\n",
            "\n",
            "Epoch 00070: val_acc did not improve from 0.86510\n",
            "Epoch 71/100\n",
            "390/390 [==============================] - 47s 119ms/step - loss: 0.1950 - acc: 0.9323 - val_loss: 0.5265 - val_acc: 0.8502\n",
            "\n",
            "Epoch 00071: val_acc did not improve from 0.86510\n",
            "Epoch 72/100\n",
            "390/390 [==============================] - 47s 120ms/step - loss: 0.1987 - acc: 0.9300 - val_loss: 0.5687 - val_acc: 0.8431\n",
            "\n",
            "Epoch 00072: val_acc did not improve from 0.86510\n",
            "Epoch 73/100\n",
            "390/390 [==============================] - 46s 119ms/step - loss: 0.1898 - acc: 0.9333 - val_loss: 1.0446 - val_acc: 0.7071\n",
            "\n",
            "Epoch 00073: val_acc did not improve from 0.86510\n",
            "Epoch 74/100\n",
            "390/390 [==============================] - 46s 119ms/step - loss: 0.1918 - acc: 0.9327 - val_loss: 0.4580 - val_acc: 0.8658\n",
            "\n",
            "Epoch 00074: val_acc improved from 0.86510 to 0.86580, saving model to /content/gdrive/My Drive/Colab Notebooks/EVA/Assingment9/cutout.hdf5\n",
            "Epoch 75/100\n",
            "390/390 [==============================] - 47s 119ms/step - loss: 0.1931 - acc: 0.9324 - val_loss: 0.4992 - val_acc: 0.8544\n",
            "\n",
            "Epoch 00075: val_acc did not improve from 0.86580\n",
            "Epoch 76/100\n",
            "390/390 [==============================] - 46s 119ms/step - loss: 0.1908 - acc: 0.9328 - val_loss: 0.5815 - val_acc: 0.8388\n",
            "\n",
            "Epoch 00076: val_acc did not improve from 0.86580\n",
            "Epoch 77/100\n",
            "390/390 [==============================] - 47s 120ms/step - loss: 0.1891 - acc: 0.9342 - val_loss: 0.5283 - val_acc: 0.8596\n",
            "\n",
            "Epoch 00077: val_acc did not improve from 0.86580\n",
            "Epoch 78/100\n",
            "390/390 [==============================] - 49s 125ms/step - loss: 0.1853 - acc: 0.9349 - val_loss: 0.7126 - val_acc: 0.8142\n",
            "\n",
            "Epoch 00078: val_acc did not improve from 0.86580\n",
            "Epoch 79/100\n",
            "390/390 [==============================] - 47s 120ms/step - loss: 0.1913 - acc: 0.9340 - val_loss: 0.4974 - val_acc: 0.8635\n",
            "\n",
            "Epoch 00079: val_acc did not improve from 0.86580\n",
            "Epoch 80/100\n",
            "390/390 [==============================] - 47s 119ms/step - loss: 0.1863 - acc: 0.9359 - val_loss: 0.6079 - val_acc: 0.8253\n",
            "\n",
            "Epoch 00080: val_acc did not improve from 0.86580\n",
            "Epoch 81/100\n",
            "390/390 [==============================] - 46s 119ms/step - loss: 0.1889 - acc: 0.9331 - val_loss: 0.5658 - val_acc: 0.8417\n",
            "\n",
            "Epoch 00081: val_acc did not improve from 0.86580\n",
            "Epoch 82/100\n",
            "390/390 [==============================] - 47s 120ms/step - loss: 0.1841 - acc: 0.9343 - val_loss: 0.5582 - val_acc: 0.8521\n",
            "\n",
            "Epoch 00082: val_acc did not improve from 0.86580\n",
            "Epoch 83/100\n",
            "390/390 [==============================] - 47s 119ms/step - loss: 0.1839 - acc: 0.9359 - val_loss: 0.6671 - val_acc: 0.8299\n",
            "\n",
            "Epoch 00083: val_acc did not improve from 0.86580\n",
            "Epoch 84/100\n",
            "390/390 [==============================] - 47s 120ms/step - loss: 0.1798 - acc: 0.9371 - val_loss: 0.4994 - val_acc: 0.8692\n",
            "\n",
            "Epoch 00084: val_acc improved from 0.86580 to 0.86920, saving model to /content/gdrive/My Drive/Colab Notebooks/EVA/Assingment9/cutout.hdf5\n",
            "Epoch 85/100\n",
            "390/390 [==============================] - 47s 120ms/step - loss: 0.1858 - acc: 0.9348 - val_loss: 0.4969 - val_acc: 0.8675\n",
            "\n",
            "Epoch 00085: val_acc did not improve from 0.86920\n",
            "Epoch 86/100\n",
            "390/390 [==============================] - 47s 119ms/step - loss: 0.1768 - acc: 0.9378 - val_loss: 0.4666 - val_acc: 0.8738\n",
            "\n",
            "Epoch 00086: val_acc improved from 0.86920 to 0.87380, saving model to /content/gdrive/My Drive/Colab Notebooks/EVA/Assingment9/cutout.hdf5\n",
            "Epoch 87/100\n",
            "390/390 [==============================] - 47s 120ms/step - loss: 0.1818 - acc: 0.9370 - val_loss: 0.4970 - val_acc: 0.8625\n",
            "\n",
            "Epoch 00087: val_acc did not improve from 0.87380\n",
            "Epoch 88/100\n",
            "390/390 [==============================] - 46s 119ms/step - loss: 0.1825 - acc: 0.9367 - val_loss: 0.5238 - val_acc: 0.8508\n",
            "\n",
            "Epoch 00088: val_acc did not improve from 0.87380\n",
            "Epoch 89/100\n",
            "390/390 [==============================] - 46s 119ms/step - loss: 0.1735 - acc: 0.9391 - val_loss: 0.5723 - val_acc: 0.8486\n",
            "\n",
            "Epoch 00089: val_acc did not improve from 0.87380\n",
            "Epoch 90/100\n",
            "390/390 [==============================] - 47s 119ms/step - loss: 0.1706 - acc: 0.9402 - val_loss: 0.5491 - val_acc: 0.8565\n",
            "\n",
            "Epoch 00090: val_acc did not improve from 0.87380\n",
            "Epoch 91/100\n",
            "390/390 [==============================] - 47s 120ms/step - loss: 0.1749 - acc: 0.9376 - val_loss: 0.5136 - val_acc: 0.8599\n",
            "\n",
            "Epoch 00091: val_acc did not improve from 0.87380\n",
            "Epoch 92/100\n",
            "390/390 [==============================] - 47s 119ms/step - loss: 0.1739 - acc: 0.9400 - val_loss: 0.5245 - val_acc: 0.8564\n",
            "\n",
            "Epoch 00092: val_acc did not improve from 0.87380\n",
            "Epoch 93/100\n",
            "390/390 [==============================] - 47s 120ms/step - loss: 0.1756 - acc: 0.9396 - val_loss: 0.5074 - val_acc: 0.8611\n",
            "\n",
            "Epoch 00093: val_acc did not improve from 0.87380\n",
            "Epoch 94/100\n",
            "390/390 [==============================] - 49s 125ms/step - loss: 0.1666 - acc: 0.9418 - val_loss: 0.5188 - val_acc: 0.8597\n",
            "\n",
            "Epoch 00094: val_acc did not improve from 0.87380\n",
            "Epoch 95/100\n",
            "390/390 [==============================] - 47s 120ms/step - loss: 0.1733 - acc: 0.9397 - val_loss: 0.6368 - val_acc: 0.8382\n",
            "\n",
            "Epoch 00095: val_acc did not improve from 0.87380\n",
            "Epoch 96/100\n",
            "390/390 [==============================] - 46s 119ms/step - loss: 0.1699 - acc: 0.9406 - val_loss: 0.5256 - val_acc: 0.8561\n",
            "\n",
            "Epoch 00096: val_acc did not improve from 0.87380\n",
            "Epoch 97/100\n",
            "390/390 [==============================] - 47s 119ms/step - loss: 0.1705 - acc: 0.9406 - val_loss: 0.6071 - val_acc: 0.8338\n",
            "\n",
            "Epoch 00097: val_acc did not improve from 0.87380\n",
            "Epoch 98/100\n",
            "390/390 [==============================] - 47s 119ms/step - loss: 0.1703 - acc: 0.9411 - val_loss: 0.5512 - val_acc: 0.8628\n",
            "\n",
            "Epoch 00098: val_acc did not improve from 0.87380\n",
            "Epoch 99/100\n",
            "390/390 [==============================] - 47s 120ms/step - loss: 0.1666 - acc: 0.9425 - val_loss: 0.4900 - val_acc: 0.8677\n",
            "\n",
            "Epoch 00099: val_acc did not improve from 0.87380\n",
            "Epoch 100/100\n",
            "390/390 [==============================] - 47s 119ms/step - loss: 0.1664 - acc: 0.9430 - val_loss: 0.5632 - val_acc: 0.8521\n",
            "\n",
            "Epoch 00100: val_acc did not improve from 0.87380\n",
            "Model took 4675.54 seconds to train\n"
          ],
          "name": "stdout"
        },
        {
          "output_type": "display_data",
          "data": {
            "image/png": "[encoded data removed]",
            "text/plain": [
              "<Figure size 1080x360 with 2 Axes>"
            ]
          },
          "metadata": {
            "tags": []
          }
        },
        {
          "output_type": "stream",
          "text": [
            "Accuracy on test data is: 85.21\n"
          ],
          "name": "stdout"
        }
      ]
    },
    {
      "cell_type": "code",
      "metadata": {
        "id": "cf0zvcK3Qh7s",
        "colab_type": "code",
        "outputId": "1d177309-13e8-4984-a3c8-d8360b702976",
        "colab": {
          "base_uri": "https://localhost:8080/",
          "height": 34
        }
      },
      "source": [
        "from keras.models import load_model\n",
        "model = load_model('/content/gdrive/My Drive/Colab Notebooks/EVA/Assingment9/cutout.hdf5')\n",
        "score = model.evaluate(test_features, test_labels, verbose=0)\n",
        "print(score)"
      ],
      "execution_count": 0,
      "outputs": [
        {
          "output_type": "stream",
          "text": [
            "[0.46661603339910507, 0.8738]\n"
          ],
          "name": "stdout"
        }
      ]
    },
    {
      "cell_type": "code",
      "metadata": {
        "id": "-I65bB12XRGS",
        "colab_type": "code",
        "colab": {}
      },
      "source": [
        ""
      ],
      "execution_count": 0,
      "outputs": []
    }
  ]
}