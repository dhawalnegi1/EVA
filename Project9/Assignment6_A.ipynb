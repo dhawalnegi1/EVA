{
  "nbformat": 4,
  "nbformat_minor": 0,
  "metadata": {
    "colab": {
      "name": "Assignment6-A.ipynb",
      "version": "0.3.2",
      "provenance": [],
      "collapsed_sections": [],
      "include_colab_link": true
    },
    "kernelspec": {
      "name": "python3",
      "display_name": "Python 3"
    },
    "accelerator": "GPU"
  },
  "cells": [
    {
      "cell_type": "markdown",
      "metadata": {
        "id": "view-in-github",
        "colab_type": "text"
      },
      "source": [
        "<a href=\"https://colab.research.google.com/github/dhawalnegi1/EVA/blob/master/Project9/Assignment6_A.ipynb\" target=\"_parent\"><img src=\"https://colab.research.google.com/assets/colab-badge.svg\" alt=\"Open In Colab\"/></a>"
      ]
    },
    {
      "cell_type": "markdown",
      "metadata": {
        "id": "_KUdPq2Rf_d6",
        "colab_type": "text"
      },
      "source": [
        "Import all the requirments "
      ]
    },
    {
      "cell_type": "code",
      "metadata": {
        "id": "0kGJ2pNDaoAy",
        "colab_type": "code",
        "outputId": "3f404781-a0ca-41e2-b366-10226ecb2026",
        "colab": {
          "base_uri": "https://localhost:8080/",
          "height": 34
        }
      },
      "source": [
        "from google.colab import drive\n",
        "drive.mount('/content/gdrive')\n",
        "import sys\n",
        "import os\n",
        "sys.path.append(\"/content/gdrive/My Drive/Colab Notebooks/EVA/Assingment9\")\n",
        "working_path = '/content/gdrive/My Drive/Colab Notebooks/EVA/Assingment9'"
      ],
      "execution_count": 0,
      "outputs": [
        {
          "output_type": "stream",
          "text": [
            "Drive already mounted at /content/gdrive; to attempt to forcibly remount, call drive.mount(\"/content/gdrive\", force_remount=True).\n"
          ],
          "name": "stdout"
        }
      ]
    },
    {
      "cell_type": "code",
      "metadata": {
        "id": "EVYy_aDfbU3E",
        "colab_type": "code",
        "outputId": "59c92b3e-cdde-41cb-ccab-9fc04e2dbdf9",
        "colab": {
          "base_uri": "https://localhost:8080/",
          "height": 34
        }
      },
      "source": [
        "!ls content/gdrive"
      ],
      "execution_count": 0,
      "outputs": [
        {
          "output_type": "stream",
          "text": [
            "ls: cannot access 'content/gdrive': No such file or directory\n"
          ],
          "name": "stdout"
        }
      ]
    },
    {
      "cell_type": "code",
      "metadata": {
        "id": "KkwXnw9OfHZl",
        "colab_type": "code",
        "outputId": "46356f72-5c7b-48b9-e376-5b255ad9ef8b",
        "colab": {
          "base_uri": "https://localhost:8080/",
          "height": 34
        }
      },
      "source": [
        "from keras import backend as K\n",
        "import time\n",
        "import matplotlib.pyplot as plt\n",
        "import numpy as np\n",
        "% matplotlib inline\n",
        "np.random.seed(2017) \n",
        "from keras.models import Sequential\n",
        "from keras.layers.convolutional import Convolution2D, MaxPooling2D\n",
        "from keras.layers import Activation, Flatten, Dense, Dropout\n",
        "from keras.layers.normalization import BatchNormalization\n",
        "from keras.utils import np_utils"
      ],
      "execution_count": 0,
      "outputs": [
        {
          "output_type": "stream",
          "text": [
            "Using TensorFlow backend.\n"
          ],
          "name": "stderr"
        }
      ]
    },
    {
      "cell_type": "markdown",
      "metadata": {
        "id": "oloaUqwqgGHW",
        "colab_type": "text"
      },
      "source": [
        "Import the cifar dataset and store in the variables for training and test purpose."
      ]
    },
    {
      "cell_type": "code",
      "metadata": {
        "id": "NHpnoCHZfO8g",
        "colab_type": "code",
        "outputId": "e1a3f7df-99ac-4724-9121-38cb730466ea",
        "colab": {
          "base_uri": "https://localhost:8080/",
          "height": 68
        }
      },
      "source": [
        "from keras.datasets import cifar10\n",
        "(train_features, train_labels), (test_features, test_labels) = cifar10.load_data()\n",
        "num_train, img_channels, img_rows, img_cols =  train_features.shape\n",
        "num_test, _, _, _ =  test_features.shape\n",
        "num_classes = len(np.unique(test_labels))\n",
        "print(num_classes)"
      ],
      "execution_count": 0,
      "outputs": [
        {
          "output_type": "stream",
          "text": [
            "Downloading data from https://www.cs.toronto.edu/~kriz/cifar-10-python.tar.gz\n",
            "170500096/170498071 [==============================] - 11s 0us/step\n",
            "10\n"
          ],
          "name": "stdout"
        }
      ]
    },
    {
      "cell_type": "markdown",
      "metadata": {
        "id": "llnlVBxMgZY0",
        "colab_type": "text"
      },
      "source": [
        "Plot 1 image of each class and lable it."
      ]
    },
    {
      "cell_type": "code",
      "metadata": {
        "id": "14HyBUXdfS6G",
        "colab_type": "code",
        "outputId": "1ce787c8-5e58-45f9-c735-a29c4d588d06",
        "colab": {
          "base_uri": "https://localhost:8080/",
          "height": 213
        }
      },
      "source": [
        "class_names = ['airplane','automobile','bird','cat','deer',\n",
        "               'dog','frog','horse','ship','truck']\n",
        "fig = plt.figure(figsize=(8,3))\n",
        "for i in range(num_classes):\n",
        "    ax = fig.add_subplot(2, 5, 1 + i, xticks=[], yticks=[])\n",
        "    idx = np.where(train_labels[:]==i)[0]\n",
        "    features_idx = train_features[idx,::]\n",
        "    img_num = np.random.randint(features_idx.shape[0])\n",
        "    im = features_idx[img_num]\n",
        "    ax.set_title(class_names[i])\n",
        "    plt.imshow(im)\n",
        "plt.show()"
      ],
      "execution_count": 0,
      "outputs": [
        {
          "output_type": "display_data",
          "data": {
            "image/png": "[encoded data removed]",
            "text/plain": [
              "<Figure size 576x216 with 10 Axes>"
            ]
          },
          "metadata": {
            "tags": []
          }
        }
      ]
    },
    {
      "cell_type": "markdown",
      "metadata": {
        "id": "m3jVgE_sgrvp",
        "colab_type": "text"
      },
      "source": [
        "Function plot_model_history to plot the graph of comparision of accuracies and loss with no of epocs."
      ]
    },
    {
      "cell_type": "code",
      "metadata": {
        "id": "bmfsk76-fadV",
        "colab_type": "code",
        "colab": {}
      },
      "source": [
        "def plot_model_history(model_history):\n",
        "    fig, axs = plt.subplots(1,2,figsize=(15,5))\n",
        "    # summarize history for accuracy\n",
        "    axs[0].plot(range(1,len(model_history.history['acc'])+1),model_history.history['acc'])\n",
        "    axs[0].plot(range(1,len(model_history.history['val_acc'])+1),model_history.history['val_acc'])\n",
        "    axs[0].set_title('Model Accuracy')\n",
        "    axs[0].set_ylabel('Accuracy')\n",
        "    axs[0].set_xlabel('Epoch')\n",
        "    axs[0].set_xticks(np.arange(1,len(model_history.history['acc'])+1),len(model_history.history['acc'])/10)\n",
        "    axs[0].legend(['train', 'val'], loc='best')\n",
        "    # summarize history for loss\n",
        "    axs[1].plot(range(1,len(model_history.history['loss'])+1),model_history.history['loss'])\n",
        "    axs[1].plot(range(1,len(model_history.history['val_loss'])+1),model_history.history['val_loss'])\n",
        "    axs[1].set_title('Model Loss')\n",
        "    axs[1].set_ylabel('Loss')\n",
        "    axs[1].set_xlabel('Epoch')\n",
        "    axs[1].set_xticks(np.arange(1,len(model_history.history['loss'])+1),len(model_history.history['loss'])/10)\n",
        "    axs[1].legend(['train', 'val'], loc='best')\n",
        "    plt.show()"
      ],
      "execution_count": 0,
      "outputs": []
    },
    {
      "cell_type": "markdown",
      "metadata": {
        "id": "FFisON1bh9ME",
        "colab_type": "text"
      },
      "source": [
        "Function accuracy is defined to calculate the validation accuracy by finding total no of images classfied correctly"
      ]
    },
    {
      "cell_type": "code",
      "metadata": {
        "id": "YJMT4rjgfdZz",
        "colab_type": "code",
        "colab": {}
      },
      "source": [
        "def accuracy(test_x, test_y, model):\n",
        "    result = model.predict(test_x)\n",
        "    predicted_class = np.argmax(result, axis=1)\n",
        "    true_class = np.argmax(test_y, axis=1)\n",
        "    num_correct = np.sum(predicted_class == true_class) \n",
        "    accuracy = float(num_correct)/result.shape[0]\n",
        "    return (accuracy * 100)"
      ],
      "execution_count": 0,
      "outputs": []
    },
    {
      "cell_type": "markdown",
      "metadata": {
        "id": "DYA3YkqTh8FO",
        "colab_type": "text"
      },
      "source": [
        "Pixel Normalisation is done for training and testing data.\n",
        "And the class labels for training and testing data is converted into one-hot encoding."
      ]
    },
    {
      "cell_type": "code",
      "metadata": {
        "id": "T5c5nDvxm6zR",
        "colab_type": "code",
        "colab": {}
      },
      "source": [
        "train_features = train_features.astype('float32')/255\n",
        "test_features = test_features.astype('float32')/255\n",
        "# convert class labels to binary class labels\n",
        "train_labels = np_utils.to_categorical(train_labels, num_classes)\n",
        "test_labels = np_utils.to_categorical(test_labels, num_classes)"
      ],
      "execution_count": 0,
      "outputs": []
    },
    {
      "cell_type": "markdown",
      "metadata": {
        "id": "AkA56_BGivDB",
        "colab_type": "text"
      },
      "source": [
        "A sequential model with the architecture of [3 ,3 ,3 ,mp ,3 ,3 ,3 ,mp ,3 ,3 ,3 ] is made using different no. of kernelas and padding wherever required, and Receptive field is commented after every layer."
      ]
    },
    {
      "cell_type": "code",
      "metadata": {
        "id": "cSOb2lkJfhVq",
        "colab_type": "code",
        "outputId": "dbd452dc-e455-4be4-ea6b-2a280927023c",
        "colab": {
          "base_uri": "https://localhost:8080/",
          "height": 547
        }
      },
      "source": [
        "# Define the model\n",
        "model = Sequential()\n",
        "model.add(Convolution2D(64, 3, 3, border_mode='same',use_bias=False, input_shape=(32, 32, 3))) #3\n",
        "model.add(BatchNormalization())\n",
        "model.add(Activation('relu'))\n",
        "model.add(Dropout(0.1))\n",
        "\n",
        "model.add(Convolution2D(64, 3, 3,use_bias=False))#5\n",
        "model.add(BatchNormalization())\n",
        "model.add(Activation('relu'))\n",
        "model.add(Dropout(0.1))\n",
        "\n",
        "model.add(Convolution2D(128, 3, 3,use_bias=False))#7\n",
        "model.add(BatchNormalization())\n",
        "model.add(Activation('relu'))\n",
        "model.add(Dropout(0.1))\n",
        "\n",
        "model.add(Convolution2D(64,1,use_bias=False))\n",
        "model.add(MaxPooling2D(pool_size=(2, 2)))#14\n",
        "\n",
        "model.add(Convolution2D(64, 3, 3, border_mode='same',use_bias=False))#16\n",
        "model.add(BatchNormalization())\n",
        "model.add(Activation('relu'))\n",
        "model.add(Dropout(0.1))\n",
        "\n",
        "model.add(Convolution2D(64, 3, 3,use_bias=False))#18\n",
        "model.add(BatchNormalization())\n",
        "model.add(Activation('relu'))\n",
        "model.add(Dropout(0.1))\n",
        "\n",
        "model.add(Convolution2D(128, 3, 3,use_bias=False))#20\n",
        "model.add(BatchNormalization())\n",
        "model.add(Activation('relu'))\n",
        "model.add(Dropout(0.1))\n",
        "\n",
        "model.add(Convolution2D(64,1,use_bias=False))\n",
        "model.add(MaxPooling2D(pool_size=(2, 2)))#40\n",
        "\n",
        "model.add(Convolution2D(64, 3, 3, border_mode='same',use_bias=False))#42\n",
        "model.add(BatchNormalization())\n",
        "model.add(Activation('relu'))\n",
        "model.add(Dropout(0.1))\n",
        "\n",
        "model.add(Convolution2D(64, 3, 3,use_bias=False))#44\n",
        "model.add(BatchNormalization())\n",
        "model.add(Activation('relu'))\n",
        "model.add(Dropout(0.1))\n",
        "\n",
        "model.add(Convolution2D(128, 3, 3,use_bias=False))#46\n",
        "model.add(BatchNormalization())\n",
        "model.add(Activation('relu'))\n",
        "model.add(Dropout(0.1))\n",
        "\n",
        "model.add(Convolution2D(10,1,use_bias=False))\n",
        "\n",
        "model.add(Flatten())\n",
        "model.add(Activation('softmax'))"
      ],
      "execution_count": 0,
      "outputs": [
        {
          "output_type": "stream",
          "text": [
            "WARNING: Logging before flag parsing goes to stderr.\n",
            "W0709 06:48:05.008342 139632282462080 deprecation_wrapper.py:119] From /usr/local/lib/python3.6/dist-packages/keras/backend/tensorflow_backend.py:74: The name tf.get_default_graph is deprecated. Please use tf.compat.v1.get_default_graph instead.\n",
            "\n",
            "/usr/local/lib/python3.6/dist-packages/ipykernel_launcher.py:2: UserWarning: Update your `Conv2D` call to the Keras 2 API: `Conv2D(64, (3, 3), use_bias=False, input_shape=(32, 32, 3..., padding=\"same\")`\n",
            "  \n",
            "W0709 06:48:05.057259 139632282462080 deprecation_wrapper.py:119] From /usr/local/lib/python3.6/dist-packages/keras/backend/tensorflow_backend.py:517: The name tf.placeholder is deprecated. Please use tf.compat.v1.placeholder instead.\n",
            "\n",
            "W0709 06:48:05.066091 139632282462080 deprecation_wrapper.py:119] From /usr/local/lib/python3.6/dist-packages/keras/backend/tensorflow_backend.py:4138: The name tf.random_uniform is deprecated. Please use tf.random.uniform instead.\n",
            "\n",
            "W0709 06:48:05.111386 139632282462080 deprecation_wrapper.py:119] From /usr/local/lib/python3.6/dist-packages/keras/backend/tensorflow_backend.py:174: The name tf.get_default_session is deprecated. Please use tf.compat.v1.get_default_session instead.\n",
            "\n",
            "W0709 06:48:05.112797 139632282462080 deprecation_wrapper.py:119] From /usr/local/lib/python3.6/dist-packages/keras/backend/tensorflow_backend.py:181: The name tf.ConfigProto is deprecated. Please use tf.compat.v1.ConfigProto instead.\n",
            "\n",
            "W0709 06:48:08.240635 139632282462080 deprecation_wrapper.py:119] From /usr/local/lib/python3.6/dist-packages/keras/backend/tensorflow_backend.py:1834: The name tf.nn.fused_batch_norm is deprecated. Please use tf.compat.v1.nn.fused_batch_norm instead.\n",
            "\n",
            "W0709 06:48:08.416445 139632282462080 deprecation.py:506] From /usr/local/lib/python3.6/dist-packages/keras/backend/tensorflow_backend.py:3445: calling dropout (from tensorflow.python.ops.nn_ops) with keep_prob is deprecated and will be removed in a future version.\n",
            "Instructions for updating:\n",
            "Please use `rate` instead of `keep_prob`. Rate should be set to `rate = 1 - keep_prob`.\n",
            "/usr/local/lib/python3.6/dist-packages/ipykernel_launcher.py:7: UserWarning: Update your `Conv2D` call to the Keras 2 API: `Conv2D(64, (3, 3), use_bias=False)`\n",
            "  import sys\n",
            "/usr/local/lib/python3.6/dist-packages/ipykernel_launcher.py:12: UserWarning: Update your `Conv2D` call to the Keras 2 API: `Conv2D(128, (3, 3), use_bias=False)`\n",
            "  if sys.path[0] == '':\n",
            "W0709 06:48:08.698652 139632282462080 deprecation_wrapper.py:119] From /usr/local/lib/python3.6/dist-packages/keras/backend/tensorflow_backend.py:3976: The name tf.nn.max_pool is deprecated. Please use tf.nn.max_pool2d instead.\n",
            "\n",
            "/usr/local/lib/python3.6/dist-packages/ipykernel_launcher.py:20: UserWarning: Update your `Conv2D` call to the Keras 2 API: `Conv2D(64, (3, 3), use_bias=False, padding=\"same\")`\n",
            "/usr/local/lib/python3.6/dist-packages/ipykernel_launcher.py:25: UserWarning: Update your `Conv2D` call to the Keras 2 API: `Conv2D(64, (3, 3), use_bias=False)`\n",
            "/usr/local/lib/python3.6/dist-packages/ipykernel_launcher.py:30: UserWarning: Update your `Conv2D` call to the Keras 2 API: `Conv2D(128, (3, 3), use_bias=False)`\n",
            "/usr/local/lib/python3.6/dist-packages/ipykernel_launcher.py:38: UserWarning: Update your `Conv2D` call to the Keras 2 API: `Conv2D(64, (3, 3), use_bias=False, padding=\"same\")`\n",
            "/usr/local/lib/python3.6/dist-packages/ipykernel_launcher.py:43: UserWarning: Update your `Conv2D` call to the Keras 2 API: `Conv2D(64, (3, 3), use_bias=False)`\n",
            "/usr/local/lib/python3.6/dist-packages/ipykernel_launcher.py:48: UserWarning: Update your `Conv2D` call to the Keras 2 API: `Conv2D(128, (3, 3), use_bias=False)`\n"
          ],
          "name": "stderr"
        }
      ]
    },
    {
      "cell_type": "markdown",
      "metadata": {
        "id": "F6-q4OWhjtOE",
        "colab_type": "text"
      },
      "source": [
        "Model is compiled and its summary is printed."
      ]
    },
    {
      "cell_type": "code",
      "metadata": {
        "id": "wvVs5tC8mR6Q",
        "colab_type": "code",
        "outputId": "cad67147-63fb-40c2-be8a-18c30465d67c",
        "colab": {
          "base_uri": "https://localhost:8080/",
          "height": 1000
        }
      },
      "source": [
        "model.compile(optimizer='adam', loss='categorical_crossentropy', metrics=['accuracy'])\n",
        "model.summary()"
      ],
      "execution_count": 0,
      "outputs": [
        {
          "output_type": "stream",
          "text": [
            "W0709 06:48:09.507750 139632282462080 deprecation_wrapper.py:119] From /usr/local/lib/python3.6/dist-packages/keras/optimizers.py:790: The name tf.train.Optimizer is deprecated. Please use tf.compat.v1.train.Optimizer instead.\n",
            "\n"
          ],
          "name": "stderr"
        },
        {
          "output_type": "stream",
          "text": [
            "_________________________________________________________________\n",
            "Layer (type)                 Output Shape              Param #   \n",
            "=================================================================\n",
            "conv2d_1 (Conv2D)            (None, 32, 32, 64)        1728      \n",
            "_________________________________________________________________\n",
            "batch_normalization_1 (Batch (None, 32, 32, 64)        256       \n",
            "_________________________________________________________________\n",
            "activation_1 (Activation)    (None, 32, 32, 64)        0         \n",
            "_________________________________________________________________\n",
            "dropout_1 (Dropout)          (None, 32, 32, 64)        0         \n",
            "_________________________________________________________________\n",
            "conv2d_2 (Conv2D)            (None, 30, 30, 64)        36864     \n",
            "_________________________________________________________________\n",
            "batch_normalization_2 (Batch (None, 30, 30, 64)        256       \n",
            "_________________________________________________________________\n",
            "activation_2 (Activation)    (None, 30, 30, 64)        0         \n",
            "_________________________________________________________________\n",
            "dropout_2 (Dropout)          (None, 30, 30, 64)        0         \n",
            "_________________________________________________________________\n",
            "conv2d_3 (Conv2D)            (None, 28, 28, 128)       73728     \n",
            "_________________________________________________________________\n",
            "batch_normalization_3 (Batch (None, 28, 28, 128)       512       \n",
            "_________________________________________________________________\n",
            "activation_3 (Activation)    (None, 28, 28, 128)       0         \n",
            "_________________________________________________________________\n",
            "dropout_3 (Dropout)          (None, 28, 28, 128)       0         \n",
            "_________________________________________________________________\n",
            "conv2d_4 (Conv2D)            (None, 28, 28, 64)        8192      \n",
            "_________________________________________________________________\n",
            "max_pooling2d_1 (MaxPooling2 (None, 14, 14, 64)        0         \n",
            "_________________________________________________________________\n",
            "conv2d_5 (Conv2D)            (None, 14, 14, 64)        36864     \n",
            "_________________________________________________________________\n",
            "batch_normalization_4 (Batch (None, 14, 14, 64)        256       \n",
            "_________________________________________________________________\n",
            "activation_4 (Activation)    (None, 14, 14, 64)        0         \n",
            "_________________________________________________________________\n",
            "dropout_4 (Dropout)          (None, 14, 14, 64)        0         \n",
            "_________________________________________________________________\n",
            "conv2d_6 (Conv2D)            (None, 12, 12, 64)        36864     \n",
            "_________________________________________________________________\n",
            "batch_normalization_5 (Batch (None, 12, 12, 64)        256       \n",
            "_________________________________________________________________\n",
            "activation_5 (Activation)    (None, 12, 12, 64)        0         \n",
            "_________________________________________________________________\n",
            "dropout_5 (Dropout)          (None, 12, 12, 64)        0         \n",
            "_________________________________________________________________\n",
            "conv2d_7 (Conv2D)            (None, 10, 10, 128)       73728     \n",
            "_________________________________________________________________\n",
            "batch_normalization_6 (Batch (None, 10, 10, 128)       512       \n",
            "_________________________________________________________________\n",
            "activation_6 (Activation)    (None, 10, 10, 128)       0         \n",
            "_________________________________________________________________\n",
            "dropout_6 (Dropout)          (None, 10, 10, 128)       0         \n",
            "_________________________________________________________________\n",
            "conv2d_8 (Conv2D)            (None, 10, 10, 64)        8192      \n",
            "_________________________________________________________________\n",
            "max_pooling2d_2 (MaxPooling2 (None, 5, 5, 64)          0         \n",
            "_________________________________________________________________\n",
            "conv2d_9 (Conv2D)            (None, 5, 5, 64)          36864     \n",
            "_________________________________________________________________\n",
            "batch_normalization_7 (Batch (None, 5, 5, 64)          256       \n",
            "_________________________________________________________________\n",
            "activation_7 (Activation)    (None, 5, 5, 64)          0         \n",
            "_________________________________________________________________\n",
            "dropout_7 (Dropout)          (None, 5, 5, 64)          0         \n",
            "_________________________________________________________________\n",
            "conv2d_10 (Conv2D)           (None, 3, 3, 64)          36864     \n",
            "_________________________________________________________________\n",
            "batch_normalization_8 (Batch (None, 3, 3, 64)          256       \n",
            "_________________________________________________________________\n",
            "activation_8 (Activation)    (None, 3, 3, 64)          0         \n",
            "_________________________________________________________________\n",
            "dropout_8 (Dropout)          (None, 3, 3, 64)          0         \n",
            "_________________________________________________________________\n",
            "conv2d_11 (Conv2D)           (None, 1, 1, 128)         73728     \n",
            "_________________________________________________________________\n",
            "batch_normalization_9 (Batch (None, 1, 1, 128)         512       \n",
            "_________________________________________________________________\n",
            "activation_9 (Activation)    (None, 1, 1, 128)         0         \n",
            "_________________________________________________________________\n",
            "dropout_9 (Dropout)          (None, 1, 1, 128)         0         \n",
            "_________________________________________________________________\n",
            "conv2d_12 (Conv2D)           (None, 1, 1, 10)          1280      \n",
            "_________________________________________________________________\n",
            "flatten_1 (Flatten)          (None, 10)                0         \n",
            "_________________________________________________________________\n",
            "activation_10 (Activation)   (None, 10)                0         \n",
            "=================================================================\n",
            "Total params: 427,968\n",
            "Trainable params: 426,432\n",
            "Non-trainable params: 1,536\n",
            "_________________________________________________________________\n"
          ],
          "name": "stdout"
        }
      ]
    },
    {
      "cell_type": "code",
      "metadata": {
        "id": "5oK_V7WyfsXX",
        "colab_type": "code",
        "outputId": "18e5c2f1-bb97-4efd-ff83-54739963786f",
        "colab": {
          "base_uri": "https://localhost:8080/",
          "height": 1000
        }
      },
      "source": [
        "from keras.preprocessing.image import ImageDataGenerator\n",
        "\n",
        "datagen = ImageDataGenerator(zoom_range=0.0, \n",
        "                             horizontal_flip=False)\n",
        "\n",
        "from keras.optimizers import Adam\n",
        "from keras.callbacks import LearningRateScheduler, ModelCheckpoint\n",
        "# train the model\n",
        "start = time.time()\n",
        "# Train the model\n",
        "filepath=working_path+\"/best.hdf5\"\n",
        "checkpoint = ModelCheckpoint(filepath, monitor='val_acc', verbose=1, save_best_only=True, mode='max')\n",
        "callbacks_list = [checkpoint]\n",
        "\n",
        "model_info = model.fit_generator(datagen.flow(train_features, train_labels, batch_size = 128),\n",
        "                                 samples_per_epoch = train_features.shape[0], nb_epoch = 100, \n",
        "                                 validation_data = (test_features, test_labels),callbacks= callbacks_list, verbose=1)\n",
        "end = time.time()\n",
        "print (\"Model took %0.2f seconds to train\"%(end - start))\n",
        "# plot model history\n",
        "plot_model_history(model_info)\n",
        "# compute test accuracy\n",
        "print (\"Accuracy on test data is: %0.2f\"%accuracy(test_features, test_labels, model))"
      ],
      "execution_count": 0,
      "outputs": [
        {
          "output_type": "stream",
          "text": [
            "/usr/local/lib/python3.6/dist-packages/ipykernel_launcher.py:17: UserWarning: The semantics of the Keras 2 argument `steps_per_epoch` is not the same as the Keras 1 argument `samples_per_epoch`. `steps_per_epoch` is the number of batches to draw from the generator at each epoch. Basically steps_per_epoch = samples_per_epoch/batch_size. Similarly `nb_val_samples`->`validation_steps` and `val_samples`->`steps` arguments have changed. Update your method calls accordingly.\n",
            "/usr/local/lib/python3.6/dist-packages/ipykernel_launcher.py:17: UserWarning: Update your `fit_generator` call to the Keras 2 API: `fit_generator(<keras_pre..., validation_data=(array([[[..., callbacks=[<keras.ca..., verbose=1, steps_per_epoch=390, epochs=100)`\n",
            "W0709 06:48:09.760808 139632282462080 deprecation.py:323] From /usr/local/lib/python3.6/dist-packages/tensorflow/python/ops/math_grad.py:1250: add_dispatch_support.<locals>.wrapper (from tensorflow.python.ops.array_ops) is deprecated and will be removed in a future version.\n",
            "Instructions for updating:\n",
            "Use tf.where in 2.0, which has the same broadcast rule as np.where\n"
          ],
          "name": "stderr"
        },
        {
          "output_type": "stream",
          "text": [
            "Epoch 1/100\n",
            "390/390 [==============================] - 51s 131ms/step - loss: 1.4813 - acc: 0.4578 - val_loss: 1.6088 - val_acc: 0.4554\n",
            "\n",
            "Epoch 00001: val_acc improved from -inf to 0.45540, saving model to /content/gdrive/My Drive/Colab Notebooks/EVA/Assingment9/best.hdf5\n",
            "Epoch 2/100\n",
            "390/390 [==============================] - 47s 120ms/step - loss: 0.9910 - acc: 0.6466 - val_loss: 1.3349 - val_acc: 0.5370\n",
            "\n",
            "Epoch 00002: val_acc improved from 0.45540 to 0.53700, saving model to /content/gdrive/My Drive/Colab Notebooks/EVA/Assingment9/best.hdf5\n",
            "Epoch 3/100\n",
            "390/390 [==============================] - 46s 119ms/step - loss: 0.7915 - acc: 0.7229 - val_loss: 0.8089 - val_acc: 0.7131\n",
            "\n",
            "Epoch 00003: val_acc improved from 0.53700 to 0.71310, saving model to /content/gdrive/My Drive/Colab Notebooks/EVA/Assingment9/best.hdf5\n",
            "Epoch 4/100\n",
            "390/390 [==============================] - 47s 119ms/step - loss: 0.6823 - acc: 0.7612 - val_loss: 0.9755 - val_acc: 0.6866\n",
            "\n",
            "Epoch 00004: val_acc did not improve from 0.71310\n",
            "Epoch 5/100\n",
            "390/390 [==============================] - 47s 119ms/step - loss: 0.6155 - acc: 0.7849 - val_loss: 0.8034 - val_acc: 0.7307\n",
            "\n",
            "Epoch 00005: val_acc improved from 0.71310 to 0.73070, saving model to /content/gdrive/My Drive/Colab Notebooks/EVA/Assingment9/best.hdf5\n",
            "Epoch 6/100\n",
            "390/390 [==============================] - 47s 119ms/step - loss: 0.5528 - acc: 0.8091 - val_loss: 0.8315 - val_acc: 0.7259\n",
            "\n",
            "Epoch 00006: val_acc did not improve from 0.73070\n",
            "Epoch 7/100\n",
            "390/390 [==============================] - 47s 119ms/step - loss: 0.5071 - acc: 0.8238 - val_loss: 1.0888 - val_acc: 0.6713\n",
            "\n",
            "Epoch 00007: val_acc did not improve from 0.73070\n",
            "Epoch 8/100\n",
            "390/390 [==============================] - 47s 119ms/step - loss: 0.4736 - acc: 0.8361 - val_loss: 0.7133 - val_acc: 0.7671\n",
            "\n",
            "Epoch 00008: val_acc improved from 0.73070 to 0.76710, saving model to /content/gdrive/My Drive/Colab Notebooks/EVA/Assingment9/best.hdf5\n",
            "Epoch 9/100\n",
            "390/390 [==============================] - 47s 119ms/step - loss: 0.4438 - acc: 0.8442 - val_loss: 0.6880 - val_acc: 0.7669\n",
            "\n",
            "Epoch 00009: val_acc did not improve from 0.76710\n",
            "Epoch 10/100\n",
            "390/390 [==============================] - 46s 119ms/step - loss: 0.4091 - acc: 0.8575 - val_loss: 0.6578 - val_acc: 0.7770\n",
            "\n",
            "Epoch 00010: val_acc improved from 0.76710 to 0.77700, saving model to /content/gdrive/My Drive/Colab Notebooks/EVA/Assingment9/best.hdf5\n",
            "Epoch 11/100\n",
            "390/390 [==============================] - 47s 120ms/step - loss: 0.3890 - acc: 0.8636 - val_loss: 0.7181 - val_acc: 0.7707\n",
            "\n",
            "Epoch 00011: val_acc did not improve from 0.77700\n",
            "Epoch 12/100\n",
            "390/390 [==============================] - 46s 119ms/step - loss: 0.3660 - acc: 0.8731 - val_loss: 0.6977 - val_acc: 0.7705\n",
            "\n",
            "Epoch 00012: val_acc did not improve from 0.77700\n",
            "Epoch 13/100\n",
            "390/390 [==============================] - 47s 119ms/step - loss: 0.3437 - acc: 0.8792 - val_loss: 0.5728 - val_acc: 0.8096\n",
            "\n",
            "Epoch 00013: val_acc improved from 0.77700 to 0.80960, saving model to /content/gdrive/My Drive/Colab Notebooks/EVA/Assingment9/best.hdf5\n",
            "Epoch 14/100\n",
            "390/390 [==============================] - 46s 119ms/step - loss: 0.3222 - acc: 0.8872 - val_loss: 0.6124 - val_acc: 0.8031\n",
            "\n",
            "Epoch 00014: val_acc did not improve from 0.80960\n",
            "Epoch 15/100\n",
            "390/390 [==============================] - 46s 119ms/step - loss: 0.3099 - acc: 0.8899 - val_loss: 0.6863 - val_acc: 0.7859\n",
            "\n",
            "Epoch 00015: val_acc did not improve from 0.80960\n",
            "Epoch 16/100\n",
            "390/390 [==============================] - 46s 119ms/step - loss: 0.2927 - acc: 0.8972 - val_loss: 0.8867 - val_acc: 0.7310\n",
            "\n",
            "Epoch 00016: val_acc did not improve from 0.80960\n",
            "Epoch 17/100\n",
            "390/390 [==============================] - 46s 119ms/step - loss: 0.2749 - acc: 0.9027 - val_loss: 0.6235 - val_acc: 0.8012\n",
            "\n",
            "Epoch 00017: val_acc did not improve from 0.80960\n",
            "Epoch 18/100\n",
            "390/390 [==============================] - 47s 119ms/step - loss: 0.2668 - acc: 0.9056 - val_loss: 0.5903 - val_acc: 0.8141\n",
            "\n",
            "Epoch 00018: val_acc improved from 0.80960 to 0.81410, saving model to /content/gdrive/My Drive/Colab Notebooks/EVA/Assingment9/best.hdf5\n",
            "Epoch 19/100\n",
            "390/390 [==============================] - 46s 119ms/step - loss: 0.2536 - acc: 0.9104 - val_loss: 0.6877 - val_acc: 0.7912\n",
            "\n",
            "Epoch 00019: val_acc did not improve from 0.81410\n",
            "Epoch 20/100\n",
            "390/390 [==============================] - 47s 119ms/step - loss: 0.2404 - acc: 0.9152 - val_loss: 0.6859 - val_acc: 0.7973\n",
            "\n",
            "Epoch 00020: val_acc did not improve from 0.81410\n",
            "Epoch 21/100\n",
            "390/390 [==============================] - 46s 119ms/step - loss: 0.2312 - acc: 0.9176 - val_loss: 0.6297 - val_acc: 0.8112\n",
            "\n",
            "Epoch 00021: val_acc did not improve from 0.81410\n",
            "Epoch 22/100\n",
            "390/390 [==============================] - 46s 119ms/step - loss: 0.2178 - acc: 0.9231 - val_loss: 0.6758 - val_acc: 0.7968\n",
            "\n",
            "Epoch 00022: val_acc did not improve from 0.81410\n",
            "Epoch 23/100\n",
            "390/390 [==============================] - 46s 119ms/step - loss: 0.2152 - acc: 0.9223 - val_loss: 0.6474 - val_acc: 0.8094\n",
            "\n",
            "Epoch 00023: val_acc did not improve from 0.81410\n",
            "Epoch 24/100\n",
            "390/390 [==============================] - 47s 119ms/step - loss: 0.2079 - acc: 0.9249 - val_loss: 0.6169 - val_acc: 0.8136\n",
            "\n",
            "Epoch 00024: val_acc did not improve from 0.81410\n",
            "Epoch 25/100\n",
            "390/390 [==============================] - 47s 120ms/step - loss: 0.1959 - acc: 0.9310 - val_loss: 0.6375 - val_acc: 0.8127\n",
            "\n",
            "Epoch 00025: val_acc did not improve from 0.81410\n",
            "Epoch 26/100\n",
            "390/390 [==============================] - 47s 119ms/step - loss: 0.1830 - acc: 0.9352 - val_loss: 0.6902 - val_acc: 0.8107\n",
            "\n",
            "Epoch 00026: val_acc did not improve from 0.81410\n",
            "Epoch 27/100\n",
            "390/390 [==============================] - 47s 119ms/step - loss: 0.1799 - acc: 0.9367 - val_loss: 0.6639 - val_acc: 0.8106\n",
            "\n",
            "Epoch 00027: val_acc did not improve from 0.81410\n",
            "Epoch 28/100\n",
            "390/390 [==============================] - 47s 119ms/step - loss: 0.1729 - acc: 0.9369 - val_loss: 0.7111 - val_acc: 0.7982\n",
            "\n",
            "Epoch 00028: val_acc did not improve from 0.81410\n",
            "Epoch 29/100\n",
            "390/390 [==============================] - 46s 119ms/step - loss: 0.1735 - acc: 0.9386 - val_loss: 0.6510 - val_acc: 0.8209\n",
            "\n",
            "Epoch 00029: val_acc improved from 0.81410 to 0.82090, saving model to /content/gdrive/My Drive/Colab Notebooks/EVA/Assingment9/best.hdf5\n",
            "Epoch 30/100\n",
            "390/390 [==============================] - 47s 119ms/step - loss: 0.1636 - acc: 0.9409 - val_loss: 0.6342 - val_acc: 0.8280\n",
            "\n",
            "Epoch 00030: val_acc improved from 0.82090 to 0.82800, saving model to /content/gdrive/My Drive/Colab Notebooks/EVA/Assingment9/best.hdf5\n",
            "Epoch 31/100\n",
            "390/390 [==============================] - 47s 119ms/step - loss: 0.1615 - acc: 0.9412 - val_loss: 0.7230 - val_acc: 0.8091\n",
            "\n",
            "Epoch 00031: val_acc did not improve from 0.82800\n",
            "Epoch 32/100\n",
            "390/390 [==============================] - 46s 119ms/step - loss: 0.1552 - acc: 0.9432 - val_loss: 0.6652 - val_acc: 0.8202\n",
            "\n",
            "Epoch 00032: val_acc did not improve from 0.82800\n",
            "Epoch 33/100\n",
            "390/390 [==============================] - 46s 119ms/step - loss: 0.1520 - acc: 0.9452 - val_loss: 0.6446 - val_acc: 0.8277\n",
            "\n",
            "Epoch 00033: val_acc did not improve from 0.82800\n",
            "Epoch 34/100\n",
            "390/390 [==============================] - 47s 119ms/step - loss: 0.1488 - acc: 0.9475 - val_loss: 0.6853 - val_acc: 0.8170\n",
            "\n",
            "Epoch 00034: val_acc did not improve from 0.82800\n",
            "Epoch 35/100\n",
            "390/390 [==============================] - 46s 119ms/step - loss: 0.1420 - acc: 0.9498 - val_loss: 0.5858 - val_acc: 0.8435\n",
            "\n",
            "Epoch 00035: val_acc improved from 0.82800 to 0.84350, saving model to /content/gdrive/My Drive/Colab Notebooks/EVA/Assingment9/best.hdf5\n",
            "Epoch 36/100\n",
            "390/390 [==============================] - 47s 119ms/step - loss: 0.1417 - acc: 0.9491 - val_loss: 0.7778 - val_acc: 0.8027\n",
            "\n",
            "Epoch 00036: val_acc did not improve from 0.84350\n",
            "Epoch 37/100\n",
            "390/390 [==============================] - 46s 119ms/step - loss: 0.1341 - acc: 0.9515 - val_loss: 0.7678 - val_acc: 0.8072\n",
            "\n",
            "Epoch 00037: val_acc did not improve from 0.84350\n",
            "Epoch 38/100\n",
            "390/390 [==============================] - 47s 119ms/step - loss: 0.1355 - acc: 0.9516 - val_loss: 0.6573 - val_acc: 0.8277\n",
            "\n",
            "Epoch 00038: val_acc did not improve from 0.84350\n",
            "Epoch 39/100\n",
            "390/390 [==============================] - 46s 119ms/step - loss: 0.1275 - acc: 0.9547 - val_loss: 0.6643 - val_acc: 0.8256\n",
            "\n",
            "Epoch 00039: val_acc did not improve from 0.84350\n",
            "Epoch 40/100\n",
            "390/390 [==============================] - 47s 119ms/step - loss: 0.1247 - acc: 0.9566 - val_loss: 0.6297 - val_acc: 0.8373\n",
            "\n",
            "Epoch 00040: val_acc did not improve from 0.84350\n",
            "Epoch 41/100\n",
            "390/390 [==============================] - 47s 119ms/step - loss: 0.1222 - acc: 0.9562 - val_loss: 0.6444 - val_acc: 0.8364\n",
            "\n",
            "Epoch 00041: val_acc did not improve from 0.84350\n",
            "Epoch 42/100\n",
            "390/390 [==============================] - 47s 119ms/step - loss: 0.1210 - acc: 0.9556 - val_loss: 0.6590 - val_acc: 0.8274\n",
            "\n",
            "Epoch 00042: val_acc did not improve from 0.84350\n",
            "Epoch 43/100\n",
            "390/390 [==============================] - 46s 119ms/step - loss: 0.1159 - acc: 0.9585 - val_loss: 0.6331 - val_acc: 0.8332\n",
            "\n",
            "Epoch 00043: val_acc did not improve from 0.84350\n",
            "Epoch 44/100\n",
            "390/390 [==============================] - 47s 119ms/step - loss: 0.1166 - acc: 0.9579 - val_loss: 0.8243 - val_acc: 0.8051\n",
            "\n",
            "Epoch 00044: val_acc did not improve from 0.84350\n",
            "Epoch 45/100\n",
            "390/390 [==============================] - 47s 119ms/step - loss: 0.1160 - acc: 0.9598 - val_loss: 0.7125 - val_acc: 0.8225\n",
            "\n",
            "Epoch 00045: val_acc did not improve from 0.84350\n",
            "Epoch 46/100\n",
            "390/390 [==============================] - 47s 119ms/step - loss: 0.1122 - acc: 0.9606 - val_loss: 0.7161 - val_acc: 0.8261\n",
            "\n",
            "Epoch 00046: val_acc did not improve from 0.84350\n",
            "Epoch 47/100\n",
            "390/390 [==============================] - 47s 119ms/step - loss: 0.1081 - acc: 0.9621 - val_loss: 0.6076 - val_acc: 0.8421\n",
            "\n",
            "Epoch 00047: val_acc did not improve from 0.84350\n",
            "Epoch 48/100\n",
            "390/390 [==============================] - 47s 119ms/step - loss: 0.1100 - acc: 0.9608 - val_loss: 0.6255 - val_acc: 0.8385\n",
            "\n",
            "Epoch 00048: val_acc did not improve from 0.84350\n",
            "Epoch 49/100\n",
            "390/390 [==============================] - 46s 119ms/step - loss: 0.1074 - acc: 0.9618 - val_loss: 0.8130 - val_acc: 0.8106\n",
            "\n",
            "Epoch 00049: val_acc did not improve from 0.84350\n",
            "Epoch 50/100\n",
            "390/390 [==============================] - 46s 119ms/step - loss: 0.1046 - acc: 0.9617 - val_loss: 0.6156 - val_acc: 0.8441\n",
            "\n",
            "Epoch 00050: val_acc improved from 0.84350 to 0.84410, saving model to /content/gdrive/My Drive/Colab Notebooks/EVA/Assingment9/best.hdf5\n",
            "Epoch 51/100\n",
            "390/390 [==============================] - 46s 119ms/step - loss: 0.0994 - acc: 0.9638 - val_loss: 0.6050 - val_acc: 0.8415\n",
            "\n",
            "Epoch 00051: val_acc did not improve from 0.84410\n",
            "Epoch 52/100\n",
            "390/390 [==============================] - 46s 119ms/step - loss: 0.0967 - acc: 0.9653 - val_loss: 0.6812 - val_acc: 0.8260\n",
            "\n",
            "Epoch 00052: val_acc did not improve from 0.84410\n",
            "Epoch 53/100\n",
            "390/390 [==============================] - 47s 120ms/step - loss: 0.0936 - acc: 0.9663 - val_loss: 0.7003 - val_acc: 0.8341\n",
            "\n",
            "Epoch 00053: val_acc did not improve from 0.84410\n",
            "Epoch 54/100\n",
            "390/390 [==============================] - 46s 119ms/step - loss: 0.0984 - acc: 0.9643 - val_loss: 0.6424 - val_acc: 0.8432\n",
            "\n",
            "Epoch 00054: val_acc did not improve from 0.84410\n",
            "Epoch 55/100\n",
            "390/390 [==============================] - 46s 119ms/step - loss: 0.0936 - acc: 0.9669 - val_loss: 0.7271 - val_acc: 0.8259\n",
            "\n",
            "Epoch 00055: val_acc did not improve from 0.84410\n",
            "Epoch 56/100\n",
            "390/390 [==============================] - 47s 119ms/step - loss: 0.0980 - acc: 0.9648 - val_loss: 0.7260 - val_acc: 0.8239\n",
            "\n",
            "Epoch 00056: val_acc did not improve from 0.84410\n",
            "Epoch 57/100\n",
            "390/390 [==============================] - 46s 119ms/step - loss: 0.0926 - acc: 0.9674 - val_loss: 0.6793 - val_acc: 0.8382\n",
            "\n",
            "Epoch 00057: val_acc did not improve from 0.84410\n",
            "Epoch 58/100\n",
            "390/390 [==============================] - 46s 119ms/step - loss: 0.0889 - acc: 0.9681 - val_loss: 0.6728 - val_acc: 0.8405\n",
            "\n",
            "Epoch 00058: val_acc did not improve from 0.84410\n",
            "Epoch 59/100\n",
            "390/390 [==============================] - 47s 119ms/step - loss: 0.0926 - acc: 0.9673 - val_loss: 0.6609 - val_acc: 0.8409\n",
            "\n",
            "Epoch 00059: val_acc did not improve from 0.84410\n",
            "Epoch 60/100\n",
            "390/390 [==============================] - 47s 119ms/step - loss: 0.0906 - acc: 0.9675 - val_loss: 0.6284 - val_acc: 0.8485\n",
            "\n",
            "Epoch 00060: val_acc improved from 0.84410 to 0.84850, saving model to /content/gdrive/My Drive/Colab Notebooks/EVA/Assingment9/best.hdf5\n",
            "Epoch 61/100\n",
            "390/390 [==============================] - 47s 119ms/step - loss: 0.0846 - acc: 0.9707 - val_loss: 0.6819 - val_acc: 0.8407\n",
            "\n",
            "Epoch 00061: val_acc did not improve from 0.84850\n",
            "Epoch 62/100\n",
            "390/390 [==============================] - 47s 120ms/step - loss: 0.0834 - acc: 0.9711 - val_loss: 0.7396 - val_acc: 0.8222\n",
            "\n",
            "Epoch 00062: val_acc did not improve from 0.84850\n",
            "Epoch 63/100\n",
            "390/390 [==============================] - 47s 119ms/step - loss: 0.0870 - acc: 0.9692 - val_loss: 0.6145 - val_acc: 0.8462\n",
            "\n",
            "Epoch 00063: val_acc did not improve from 0.84850\n",
            "Epoch 64/100\n",
            "390/390 [==============================] - 47s 119ms/step - loss: 0.0874 - acc: 0.9692 - val_loss: 0.6835 - val_acc: 0.8379\n",
            "\n",
            "Epoch 00064: val_acc did not improve from 0.84850\n",
            "Epoch 65/100\n",
            "390/390 [==============================] - 47s 119ms/step - loss: 0.0839 - acc: 0.9702 - val_loss: 0.6986 - val_acc: 0.8380\n",
            "\n",
            "Epoch 00065: val_acc did not improve from 0.84850\n",
            "Epoch 66/100\n",
            "390/390 [==============================] - 47s 119ms/step - loss: 0.0789 - acc: 0.9710 - val_loss: 0.7625 - val_acc: 0.8281\n",
            "\n",
            "Epoch 00066: val_acc did not improve from 0.84850\n",
            "Epoch 67/100\n",
            "390/390 [==============================] - 46s 119ms/step - loss: 0.0803 - acc: 0.9713 - val_loss: 0.7154 - val_acc: 0.8392\n",
            "\n",
            "Epoch 00067: val_acc did not improve from 0.84850\n",
            "Epoch 68/100\n",
            "390/390 [==============================] - 46s 119ms/step - loss: 0.0819 - acc: 0.9706 - val_loss: 1.1989 - val_acc: 0.7699\n",
            "\n",
            "Epoch 00068: val_acc did not improve from 0.84850\n",
            "Epoch 69/100\n",
            "390/390 [==============================] - 46s 119ms/step - loss: 0.0838 - acc: 0.9702 - val_loss: 0.8195 - val_acc: 0.8154\n",
            "\n",
            "Epoch 00069: val_acc did not improve from 0.84850\n",
            "Epoch 70/100\n",
            "390/390 [==============================] - 46s 119ms/step - loss: 0.0763 - acc: 0.9724 - val_loss: 0.7021 - val_acc: 0.8423\n",
            "\n",
            "Epoch 00070: val_acc did not improve from 0.84850\n",
            "Epoch 71/100\n",
            "390/390 [==============================] - 47s 119ms/step - loss: 0.0802 - acc: 0.9712 - val_loss: 0.7781 - val_acc: 0.8289\n",
            "\n",
            "Epoch 00071: val_acc did not improve from 0.84850\n",
            "Epoch 72/100\n",
            "390/390 [==============================] - 47s 119ms/step - loss: 0.0776 - acc: 0.9723 - val_loss: 0.7864 - val_acc: 0.8238\n",
            "\n",
            "Epoch 00072: val_acc did not improve from 0.84850\n",
            "Epoch 73/100\n",
            "390/390 [==============================] - 47s 119ms/step - loss: 0.0743 - acc: 0.9740 - val_loss: 0.6909 - val_acc: 0.8404\n",
            "\n",
            "Epoch 00073: val_acc did not improve from 0.84850\n",
            "Epoch 74/100\n",
            "390/390 [==============================] - 47s 119ms/step - loss: 0.0757 - acc: 0.9729 - val_loss: 0.6565 - val_acc: 0.8485\n",
            "\n",
            "Epoch 00074: val_acc did not improve from 0.84850\n",
            "Epoch 75/100\n",
            "390/390 [==============================] - 47s 119ms/step - loss: 0.0746 - acc: 0.9734 - val_loss: 0.7280 - val_acc: 0.8347\n",
            "\n",
            "Epoch 00075: val_acc did not improve from 0.84850\n",
            "Epoch 76/100\n",
            "390/390 [==============================] - 47s 119ms/step - loss: 0.0715 - acc: 0.9748 - val_loss: 0.6820 - val_acc: 0.8448\n",
            "\n",
            "Epoch 00076: val_acc did not improve from 0.84850\n",
            "Epoch 77/100\n",
            "390/390 [==============================] - 46s 119ms/step - loss: 0.0764 - acc: 0.9726 - val_loss: 0.6610 - val_acc: 0.8487\n",
            "\n",
            "Epoch 00077: val_acc improved from 0.84850 to 0.84870, saving model to /content/gdrive/My Drive/Colab Notebooks/EVA/Assingment9/best.hdf5\n",
            "Epoch 78/100\n",
            "390/390 [==============================] - 48s 122ms/step - loss: 0.0725 - acc: 0.9747 - val_loss: 0.7109 - val_acc: 0.8402\n",
            "\n",
            "Epoch 00078: val_acc did not improve from 0.84870\n",
            "Epoch 79/100\n",
            "390/390 [==============================] - 47s 120ms/step - loss: 0.0679 - acc: 0.9760 - val_loss: 0.9962 - val_acc: 0.7964\n",
            "\n",
            "Epoch 00079: val_acc did not improve from 0.84870\n",
            "Epoch 80/100\n",
            "390/390 [==============================] - 47s 120ms/step - loss: 0.0722 - acc: 0.9749 - val_loss: 0.7363 - val_acc: 0.8358\n",
            "\n",
            "Epoch 00080: val_acc did not improve from 0.84870\n",
            "Epoch 81/100\n",
            "390/390 [==============================] - 47s 120ms/step - loss: 0.0695 - acc: 0.9751 - val_loss: 0.6986 - val_acc: 0.8445\n",
            "\n",
            "Epoch 00081: val_acc did not improve from 0.84870\n",
            "Epoch 82/100\n",
            "390/390 [==============================] - 47s 120ms/step - loss: 0.0743 - acc: 0.9747 - val_loss: 0.6936 - val_acc: 0.8452\n",
            "\n",
            "Epoch 00082: val_acc did not improve from 0.84870\n",
            "Epoch 83/100\n",
            "390/390 [==============================] - 47s 121ms/step - loss: 0.0688 - acc: 0.9746 - val_loss: 0.7853 - val_acc: 0.8239\n",
            "\n",
            "Epoch 00083: val_acc did not improve from 0.84870\n",
            "Epoch 84/100\n",
            "390/390 [==============================] - 47s 120ms/step - loss: 0.0677 - acc: 0.9761 - val_loss: 0.6939 - val_acc: 0.8456\n",
            "\n",
            "Epoch 00084: val_acc did not improve from 0.84870\n",
            "Epoch 85/100\n",
            "390/390 [==============================] - 47s 120ms/step - loss: 0.0661 - acc: 0.9761 - val_loss: 0.6767 - val_acc: 0.8534\n",
            "\n",
            "Epoch 00085: val_acc improved from 0.84870 to 0.85340, saving model to /content/gdrive/My Drive/Colab Notebooks/EVA/Assingment9/best.hdf5\n",
            "Epoch 86/100\n",
            "390/390 [==============================] - 47s 120ms/step - loss: 0.0709 - acc: 0.9757 - val_loss: 0.8801 - val_acc: 0.8117\n",
            "\n",
            "Epoch 00086: val_acc did not improve from 0.85340\n",
            "Epoch 87/100\n",
            "390/390 [==============================] - 47s 120ms/step - loss: 0.0659 - acc: 0.9774 - val_loss: 0.7005 - val_acc: 0.8435\n",
            "\n",
            "Epoch 00087: val_acc did not improve from 0.85340\n",
            "Epoch 88/100\n",
            "390/390 [==============================] - 47s 120ms/step - loss: 0.0630 - acc: 0.9778 - val_loss: 0.7043 - val_acc: 0.8455\n",
            "\n",
            "Epoch 00088: val_acc did not improve from 0.85340\n",
            "Epoch 89/100\n",
            "390/390 [==============================] - 47s 120ms/step - loss: 0.0646 - acc: 0.9773 - val_loss: 0.6854 - val_acc: 0.8500\n",
            "\n",
            "Epoch 00089: val_acc did not improve from 0.85340\n",
            "Epoch 90/100\n",
            "390/390 [==============================] - 47s 120ms/step - loss: 0.0645 - acc: 0.9772 - val_loss: 0.7032 - val_acc: 0.8450\n",
            "\n",
            "Epoch 00090: val_acc did not improve from 0.85340\n",
            "Epoch 91/100\n",
            "390/390 [==============================] - 47s 120ms/step - loss: 0.0645 - acc: 0.9772 - val_loss: 0.7247 - val_acc: 0.8423\n",
            "\n",
            "Epoch 00091: val_acc did not improve from 0.85340\n",
            "Epoch 92/100\n",
            "390/390 [==============================] - 47s 120ms/step - loss: 0.0629 - acc: 0.9777 - val_loss: 0.8449 - val_acc: 0.8302\n",
            "\n",
            "Epoch 00092: val_acc did not improve from 0.85340\n",
            "Epoch 93/100\n",
            "390/390 [==============================] - 47s 120ms/step - loss: 0.0639 - acc: 0.9779 - val_loss: 0.6765 - val_acc: 0.8522\n",
            "\n",
            "Epoch 00093: val_acc did not improve from 0.85340\n",
            "Epoch 94/100\n",
            "390/390 [==============================] - 47s 120ms/step - loss: 0.0595 - acc: 0.9788 - val_loss: 0.7722 - val_acc: 0.8390\n",
            "\n",
            "Epoch 00094: val_acc did not improve from 0.85340\n",
            "Epoch 95/100\n",
            "390/390 [==============================] - 47s 120ms/step - loss: 0.0611 - acc: 0.9784 - val_loss: 0.7173 - val_acc: 0.8485\n",
            "\n",
            "Epoch 00095: val_acc did not improve from 0.85340\n",
            "Epoch 96/100\n",
            "390/390 [==============================] - 47s 120ms/step - loss: 0.0630 - acc: 0.9782 - val_loss: 0.8864 - val_acc: 0.8152\n",
            "\n",
            "Epoch 00096: val_acc did not improve from 0.85340\n",
            "Epoch 97/100\n",
            "390/390 [==============================] - 47s 120ms/step - loss: 0.0583 - acc: 0.9793 - val_loss: 0.7349 - val_acc: 0.8474\n",
            "\n",
            "Epoch 00097: val_acc did not improve from 0.85340\n",
            "Epoch 98/100\n",
            "390/390 [==============================] - 47s 120ms/step - loss: 0.0635 - acc: 0.9776 - val_loss: 0.8121 - val_acc: 0.8351\n",
            "\n",
            "Epoch 00098: val_acc did not improve from 0.85340\n",
            "Epoch 99/100\n",
            "390/390 [==============================] - 47s 120ms/step - loss: 0.0574 - acc: 0.9796 - val_loss: 0.7048 - val_acc: 0.8466\n",
            "\n",
            "Epoch 00099: val_acc did not improve from 0.85340\n",
            "Epoch 100/100\n",
            "390/390 [==============================] - 47s 120ms/step - loss: 0.0597 - acc: 0.9790 - val_loss: 0.7130 - val_acc: 0.8463\n",
            "\n",
            "Epoch 00100: val_acc did not improve from 0.85340\n",
            "Model took 4677.79 seconds to train\n"
          ],
          "name": "stdout"
        },
        {
          "output_type": "display_data",
          "data": {
            "image/png": "[encoded data removed]",
            "text/plain": [
              "<Figure size 1080x360 with 2 Axes>"
            ]
          },
          "metadata": {
            "tags": []
          }
        },
        {
          "output_type": "stream",
          "text": [
            "Accuracy on test data is: 84.63\n"
          ],
          "name": "stdout"
        }
      ]
    },
    {
      "cell_type": "code",
      "metadata": {
        "id": "cf0zvcK3Qh7s",
        "colab_type": "code",
        "outputId": "0c8160f2-058d-485a-e433-ee2affbf6529",
        "colab": {
          "base_uri": "https://localhost:8080/",
          "height": 34
        }
      },
      "source": [
        "from keras.models import load_model\n",
        "model = load_model('/content/gdrive/My Drive/Colab Notebooks/EVA/Assingment9/best.hdf5')\n",
        "score = model.evaluate(test_features, test_labels, verbose=0)\n",
        "print(score)"
      ],
      "execution_count": 0,
      "outputs": [
        {
          "output_type": "stream",
          "text": [
            "[0.6766669033527374, 0.8534]\n"
          ],
          "name": "stdout"
        }
      ]
    }
  ]
}