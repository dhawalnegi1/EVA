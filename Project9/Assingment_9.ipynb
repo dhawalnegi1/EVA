{
  "nbformat": 4,
  "nbformat_minor": 0,
  "metadata": {
    "colab": {
      "name": "Assingment-9.ipynb",
      "version": "0.3.2",
      "provenance": [],
      "collapsed_sections": [],
      "include_colab_link": true
    },
    "kernelspec": {
      "name": "python3",
      "display_name": "Python 3"
    }
  },
  "cells": [
    {
      "cell_type": "markdown",
      "metadata": {
        "id": "view-in-github",
        "colab_type": "text"
      },
      "source": [
        "<a href=\"https://colab.research.google.com/github/dhawalnegi1/EVA/blob/master/Project9/Assingment_9.ipynb\" target=\"_parent\"><img src=\"https://colab.research.google.com/assets/colab-badge.svg\" alt=\"Open In Colab\"/></a>"
      ]
    },
    {
      "cell_type": "code",
      "metadata": {
        "id": "d6kGP1bcK4CW",
        "colab_type": "code",
        "outputId": "5752763d-a76d-40d6-9f14-28b4217242c0",
        "colab": {
          "base_uri": "https://localhost:8080/",
          "height": 34
        }
      },
      "source": [
        "from google.colab import drive\n",
        "drive.mount('/content/gdrive')\n",
        "import sys\n",
        "import os\n",
        "sys.path.append(\"/content/gdrive/My Drive/Colab Notebooks/EVA/Assingment9\")\n",
        "working_path = '/content/gdrive/My Drive/Colab Notebooks/EVA/Assingment9'"
      ],
      "execution_count": 84,
      "outputs": [
        {
          "output_type": "stream",
          "text": [
            "Drive already mounted at /content/gdrive; to attempt to forcibly remount, call drive.mount(\"/content/gdrive\", force_remount=True).\n"
          ],
          "name": "stdout"
        }
      ]
    },
    {
      "cell_type": "code",
      "metadata": {
        "id": "omQz5h21LmtX",
        "colab_type": "code",
        "colab": {}
      },
      "source": [
        "from keras import backend as K\n",
        "import time\n",
        "import matplotlib.pyplot as plt\n",
        "import numpy as np\n",
        "% matplotlib inline\n",
        "np.random.seed(2017) \n",
        "from keras.models import Sequential\n",
        "from keras.layers.convolutional import Convolution2D, MaxPooling2D\n",
        "from keras.layers import Activation, Flatten, Dense, Dropout\n",
        "from keras.layers.normalization import BatchNormalization\n",
        "from keras.utils import np_utils"
      ],
      "execution_count": 0,
      "outputs": []
    },
    {
      "cell_type": "code",
      "metadata": {
        "id": "ZxqGNDFoLL08",
        "colab_type": "code",
        "outputId": "94549c04-cc62-4bfd-ae2f-582fb9296b18",
        "colab": {
          "base_uri": "https://localhost:8080/",
          "height": 34
        }
      },
      "source": [
        "from keras.datasets import cifar10\n",
        "(train_features, train_labels), (test_features, test_labels) = cifar10.load_data()\n",
        "num_train, img_channels, img_rows, img_cols =  train_features.shape\n",
        "num_test, _, _, _ =  test_features.shape\n",
        "num_classes = len(np.unique(test_labels))\n",
        "print(num_classes)"
      ],
      "execution_count": 86,
      "outputs": [
        {
          "output_type": "stream",
          "text": [
            "10\n"
          ],
          "name": "stdout"
        }
      ]
    },
    {
      "cell_type": "code",
      "metadata": {
        "id": "yRZZhaP9LQsd",
        "colab_type": "code",
        "outputId": "cd6e807d-4453-4549-a7da-19170b1a7854",
        "colab": {
          "base_uri": "https://localhost:8080/",
          "height": 286
        }
      },
      "source": [
        "from matplotlib import pyplot as plt\n",
        "%matplotlib inline\n",
        "plt.imshow(train_features[100])"
      ],
      "execution_count": 87,
      "outputs": [
        {
          "output_type": "execute_result",
          "data": {
            "text/plain": [
              "<matplotlib.image.AxesImage at 0x7ff4d381c4e0>"
            ]
          },
          "metadata": {
            "tags": []
          },
          "execution_count": 87
        },
        {
          "output_type": "display_data",
          "data": {
            "image/png": "[encoded data removed]",
            "text/plain": [
              "<Figure size 432x288 with 1 Axes>"
            ]
          },
          "metadata": {
            "tags": []
          }
        }
      ]
    },
    {
      "cell_type": "code",
      "metadata": {
        "id": "VQ-qNs43LzoY",
        "colab_type": "code",
        "outputId": "b9779ef3-7595-467b-da32-3c2d5d71b356",
        "colab": {
          "base_uri": "https://localhost:8080/",
          "height": 1000
        }
      },
      "source": [
        "import keras.models\n",
        "model = keras.models.load_model('/content/gdrive/My Drive/Colab Notebooks/EVA/Assingment9/best.hdf5')\n",
        "model.summary()"
      ],
      "execution_count": 88,
      "outputs": [
        {
          "output_type": "stream",
          "text": [
            "_________________________________________________________________\n",
            "Layer (type)                 Output Shape              Param #   \n",
            "=================================================================\n",
            "conv2d_1 (Conv2D)            (None, 32, 32, 64)        1728      \n",
            "_________________________________________________________________\n",
            "batch_normalization_1 (Batch (None, 32, 32, 64)        256       \n",
            "_________________________________________________________________\n",
            "activation_1 (Activation)    (None, 32, 32, 64)        0         \n",
            "_________________________________________________________________\n",
            "dropout_1 (Dropout)          (None, 32, 32, 64)        0         \n",
            "_________________________________________________________________\n",
            "conv2d_2 (Conv2D)            (None, 30, 30, 64)        36864     \n",
            "_________________________________________________________________\n",
            "batch_normalization_2 (Batch (None, 30, 30, 64)        256       \n",
            "_________________________________________________________________\n",
            "activation_2 (Activation)    (None, 30, 30, 64)        0         \n",
            "_________________________________________________________________\n",
            "dropout_2 (Dropout)          (None, 30, 30, 64)        0         \n",
            "_________________________________________________________________\n",
            "conv2d_3 (Conv2D)            (None, 28, 28, 128)       73728     \n",
            "_________________________________________________________________\n",
            "batch_normalization_3 (Batch (None, 28, 28, 128)       512       \n",
            "_________________________________________________________________\n",
            "activation_3 (Activation)    (None, 28, 28, 128)       0         \n",
            "_________________________________________________________________\n",
            "dropout_3 (Dropout)          (None, 28, 28, 128)       0         \n",
            "_________________________________________________________________\n",
            "conv2d_4 (Conv2D)            (None, 28, 28, 64)        8192      \n",
            "_________________________________________________________________\n",
            "max_pooling2d_1 (MaxPooling2 (None, 14, 14, 64)        0         \n",
            "_________________________________________________________________\n",
            "conv2d_5 (Conv2D)            (None, 14, 14, 64)        36864     \n",
            "_________________________________________________________________\n",
            "batch_normalization_4 (Batch (None, 14, 14, 64)        256       \n",
            "_________________________________________________________________\n",
            "activation_4 (Activation)    (None, 14, 14, 64)        0         \n",
            "_________________________________________________________________\n",
            "dropout_4 (Dropout)          (None, 14, 14, 64)        0         \n",
            "_________________________________________________________________\n",
            "conv2d_6 (Conv2D)            (None, 12, 12, 64)        36864     \n",
            "_________________________________________________________________\n",
            "batch_normalization_5 (Batch (None, 12, 12, 64)        256       \n",
            "_________________________________________________________________\n",
            "activation_5 (Activation)    (None, 12, 12, 64)        0         \n",
            "_________________________________________________________________\n",
            "dropout_5 (Dropout)          (None, 12, 12, 64)        0         \n",
            "_________________________________________________________________\n",
            "conv2d_7 (Conv2D)            (None, 10, 10, 128)       73728     \n",
            "_________________________________________________________________\n",
            "batch_normalization_6 (Batch (None, 10, 10, 128)       512       \n",
            "_________________________________________________________________\n",
            "activation_6 (Activation)    (None, 10, 10, 128)       0         \n",
            "_________________________________________________________________\n",
            "dropout_6 (Dropout)          (None, 10, 10, 128)       0         \n",
            "_________________________________________________________________\n",
            "conv2d_8 (Conv2D)            (None, 10, 10, 64)        8192      \n",
            "_________________________________________________________________\n",
            "max_pooling2d_2 (MaxPooling2 (None, 5, 5, 64)          0         \n",
            "_________________________________________________________________\n",
            "conv2d_9 (Conv2D)            (None, 5, 5, 64)          36864     \n",
            "_________________________________________________________________\n",
            "batch_normalization_7 (Batch (None, 5, 5, 64)          256       \n",
            "_________________________________________________________________\n",
            "activation_7 (Activation)    (None, 5, 5, 64)          0         \n",
            "_________________________________________________________________\n",
            "dropout_7 (Dropout)          (None, 5, 5, 64)          0         \n",
            "_________________________________________________________________\n",
            "conv2d_10 (Conv2D)           (None, 3, 3, 64)          36864     \n",
            "_________________________________________________________________\n",
            "batch_normalization_8 (Batch (None, 3, 3, 64)          256       \n",
            "_________________________________________________________________\n",
            "activation_8 (Activation)    (None, 3, 3, 64)          0         \n",
            "_________________________________________________________________\n",
            "dropout_8 (Dropout)          (None, 3, 3, 64)          0         \n",
            "_________________________________________________________________\n",
            "conv2d_11 (Conv2D)           (None, 1, 1, 128)         73728     \n",
            "_________________________________________________________________\n",
            "batch_normalization_9 (Batch (None, 1, 1, 128)         512       \n",
            "_________________________________________________________________\n",
            "activation_9 (Activation)    (None, 1, 1, 128)         0         \n",
            "_________________________________________________________________\n",
            "dropout_9 (Dropout)          (None, 1, 1, 128)         0         \n",
            "_________________________________________________________________\n",
            "conv2d_12 (Conv2D)           (None, 1, 1, 10)          1280      \n",
            "_________________________________________________________________\n",
            "flatten_1 (Flatten)          (None, 10)                0         \n",
            "_________________________________________________________________\n",
            "activation_10 (Activation)   (None, 10)                0         \n",
            "=================================================================\n",
            "Total params: 427,968\n",
            "Trainable params: 426,432\n",
            "Non-trainable params: 1,536\n",
            "_________________________________________________________________\n"
          ],
          "name": "stdout"
        }
      ]
    },
    {
      "cell_type": "code",
      "metadata": {
        "id": "L5egt2tUMSkG",
        "colab_type": "code",
        "colab": {}
      },
      "source": [
        "from keras.preprocessing import image\n",
        "from keras.applications.vgg16 import VGG16, preprocess_input, decode_predictions\n",
        "import numpy as np\n",
        "import cv2"
      ],
      "execution_count": 0,
      "outputs": []
    },
    {
      "cell_type": "code",
      "metadata": {
        "id": "CnR1JaTKMYGA",
        "colab_type": "code",
        "outputId": "8eb8a443-1079-48cc-9fea-134d0025d5fb",
        "colab": {
          "base_uri": "https://localhost:8080/",
          "height": 677
        }
      },
      "source": [
        "var=[56,15,78,199]\n",
        "j=1\n",
        "for i in var:\n",
        "  dog= train_features[i]\n",
        "  #dog = cv2.resize(dog, dsize=(224, 224), interpolation=cv2.INTER_CUBIC)\n",
        "  #x = image.img_to_array(dog)\n",
        "  x = np.expand_dims(dog, axis=0)\n",
        "  x = preprocess_input(x)\n",
        "  print(x.shape)\n",
        "  preds = model.predict(x)\n",
        "  class_idx = np.argmax(preds[0])\n",
        "  print(class_idx)\n",
        "  class_output = model.output[:, class_idx]\n",
        "  last_conv_layer = model.get_layer(\"conv2d_9\")\n",
        "  grads = K.gradients(class_output, last_conv_layer.output)[0]\n",
        "  print(grads.shape)\n",
        "  pooled_grads = K.mean(grads, axis=(0, 1, 2))\n",
        "  print(pooled_grads.shape)\n",
        "  iterate = K.function([model.input], [pooled_grads, last_conv_layer.output[0]])\n",
        "  pooled_grads_value, conv_layer_output_value = iterate([x])\n",
        "  for i in range(64):\n",
        "    conv_layer_output_value[:, :, i] *= pooled_grads_value[i]\n",
        "  heatmap = np.mean(conv_layer_output_value, axis = -1)\n",
        "  print(conv_layer_output_value.shape)\n",
        "  print(heatmap.shape)\n",
        "  heatmap = np.maximum(heatmap, 0)\n",
        "  heatmap /= np.max(heatmap)\n",
        "  heatmap = cv2.resize(heatmap, (dog.shape[1], dog.shape[0]))\n",
        "  heatmap = np.uint8(255 * heatmap)\n",
        "  heatmap = cv2.applyColorMap(heatmap, cv2.COLORMAP_JET)\n",
        "  superimposed_img = cv2.addWeighted(dog, 0.5, heatmap, 0.5, 0)\n",
        "  from google.colab.patches import cv2_imshow\n",
        "  plt.subplot(4,2,j)\n",
        "  plt.imshow(dog)\n",
        "  plt.subplot(4,2,j+1)\n",
        "  plt.imshow(superimposed_img)\n",
        "  j=j+2"
      ],
      "execution_count": 90,
      "outputs": [
        {
          "output_type": "stream",
          "text": [
            "(1, 32, 32, 3)\n",
            "1\n",
            "(?, 5, 5, 64)\n",
            "(64,)\n",
            "(5, 5, 64)\n",
            "(5, 5)\n",
            "(1, 32, 32, 3)\n",
            "1\n",
            "(?, 5, 5, 64)\n",
            "(64,)\n",
            "(5, 5, 64)\n",
            "(5, 5)\n",
            "(1, 32, 32, 3)\n",
            "1\n",
            "(?, 5, 5, 64)\n",
            "(64,)\n",
            "(5, 5, 64)\n",
            "(5, 5)\n",
            "(1, 32, 32, 3)\n",
            "2\n",
            "(?, 5, 5, 64)\n",
            "(64,)\n",
            "(5, 5, 64)\n",
            "(5, 5)\n"
          ],
          "name": "stdout"
        },
        {
          "output_type": "display_data",
          "data": {
            "image/png": "[encoded data removed]",
            "text/plain": [
              "<Figure size 432x288 with 8 Axes>"
            ]
          },
          "metadata": {
            "tags": []
          }
        }
      ]
    },
    {
      "cell_type": "code",
      "metadata": {
        "id": "k_0p61OkRVgU",
        "colab_type": "code",
        "outputId": "0e83af78-88e8-4471-cda6-140711d8b7ff",
        "colab": {
          "base_uri": "https://localhost:8080/",
          "height": 1000
        }
      },
      "source": [
        "model1 = keras.models.load_model('/content/gdrive/My Drive/Colab Notebooks/EVA/Assingment9/cutout.hdf5')\n",
        "model1.summary()"
      ],
      "execution_count": 91,
      "outputs": [
        {
          "output_type": "stream",
          "text": [
            "_________________________________________________________________\n",
            "Layer (type)                 Output Shape              Param #   \n",
            "=================================================================\n",
            "conv2d_1 (Conv2D)            (None, 32, 32, 64)        1728      \n",
            "_________________________________________________________________\n",
            "batch_normalization_1 (Batch (None, 32, 32, 64)        256       \n",
            "_________________________________________________________________\n",
            "activation_1 (Activation)    (None, 32, 32, 64)        0         \n",
            "_________________________________________________________________\n",
            "dropout_1 (Dropout)          (None, 32, 32, 64)        0         \n",
            "_________________________________________________________________\n",
            "conv2d_2 (Conv2D)            (None, 30, 30, 64)        36864     \n",
            "_________________________________________________________________\n",
            "batch_normalization_2 (Batch (None, 30, 30, 64)        256       \n",
            "_________________________________________________________________\n",
            "activation_2 (Activation)    (None, 30, 30, 64)        0         \n",
            "_________________________________________________________________\n",
            "dropout_2 (Dropout)          (None, 30, 30, 64)        0         \n",
            "_________________________________________________________________\n",
            "conv2d_3 (Conv2D)            (None, 28, 28, 128)       73728     \n",
            "_________________________________________________________________\n",
            "batch_normalization_3 (Batch (None, 28, 28, 128)       512       \n",
            "_________________________________________________________________\n",
            "activation_3 (Activation)    (None, 28, 28, 128)       0         \n",
            "_________________________________________________________________\n",
            "dropout_3 (Dropout)          (None, 28, 28, 128)       0         \n",
            "_________________________________________________________________\n",
            "conv2d_4 (Conv2D)            (None, 28, 28, 64)        8192      \n",
            "_________________________________________________________________\n",
            "max_pooling2d_1 (MaxPooling2 (None, 14, 14, 64)        0         \n",
            "_________________________________________________________________\n",
            "conv2d_5 (Conv2D)            (None, 14, 14, 64)        36864     \n",
            "_________________________________________________________________\n",
            "batch_normalization_4 (Batch (None, 14, 14, 64)        256       \n",
            "_________________________________________________________________\n",
            "activation_4 (Activation)    (None, 14, 14, 64)        0         \n",
            "_________________________________________________________________\n",
            "dropout_4 (Dropout)          (None, 14, 14, 64)        0         \n",
            "_________________________________________________________________\n",
            "conv2d_6 (Conv2D)            (None, 12, 12, 64)        36864     \n",
            "_________________________________________________________________\n",
            "batch_normalization_5 (Batch (None, 12, 12, 64)        256       \n",
            "_________________________________________________________________\n",
            "activation_5 (Activation)    (None, 12, 12, 64)        0         \n",
            "_________________________________________________________________\n",
            "dropout_5 (Dropout)          (None, 12, 12, 64)        0         \n",
            "_________________________________________________________________\n",
            "conv2d_7 (Conv2D)            (None, 10, 10, 128)       73728     \n",
            "_________________________________________________________________\n",
            "batch_normalization_6 (Batch (None, 10, 10, 128)       512       \n",
            "_________________________________________________________________\n",
            "activation_6 (Activation)    (None, 10, 10, 128)       0         \n",
            "_________________________________________________________________\n",
            "dropout_6 (Dropout)          (None, 10, 10, 128)       0         \n",
            "_________________________________________________________________\n",
            "conv2d_8 (Conv2D)            (None, 10, 10, 64)        8192      \n",
            "_________________________________________________________________\n",
            "max_pooling2d_2 (MaxPooling2 (None, 5, 5, 64)          0         \n",
            "_________________________________________________________________\n",
            "conv2d_9 (Conv2D)            (None, 5, 5, 64)          36864     \n",
            "_________________________________________________________________\n",
            "batch_normalization_7 (Batch (None, 5, 5, 64)          256       \n",
            "_________________________________________________________________\n",
            "activation_7 (Activation)    (None, 5, 5, 64)          0         \n",
            "_________________________________________________________________\n",
            "dropout_7 (Dropout)          (None, 5, 5, 64)          0         \n",
            "_________________________________________________________________\n",
            "conv2d_10 (Conv2D)           (None, 3, 3, 64)          36864     \n",
            "_________________________________________________________________\n",
            "batch_normalization_8 (Batch (None, 3, 3, 64)          256       \n",
            "_________________________________________________________________\n",
            "activation_8 (Activation)    (None, 3, 3, 64)          0         \n",
            "_________________________________________________________________\n",
            "dropout_8 (Dropout)          (None, 3, 3, 64)          0         \n",
            "_________________________________________________________________\n",
            "conv2d_11 (Conv2D)           (None, 1, 1, 128)         73728     \n",
            "_________________________________________________________________\n",
            "batch_normalization_9 (Batch (None, 1, 1, 128)         512       \n",
            "_________________________________________________________________\n",
            "activation_9 (Activation)    (None, 1, 1, 128)         0         \n",
            "_________________________________________________________________\n",
            "dropout_9 (Dropout)          (None, 1, 1, 128)         0         \n",
            "_________________________________________________________________\n",
            "conv2d_12 (Conv2D)           (None, 1, 1, 10)          1280      \n",
            "_________________________________________________________________\n",
            "flatten_1 (Flatten)          (None, 10)                0         \n",
            "_________________________________________________________________\n",
            "activation_10 (Activation)   (None, 10)                0         \n",
            "=================================================================\n",
            "Total params: 427,968\n",
            "Trainable params: 426,432\n",
            "Non-trainable params: 1,536\n",
            "_________________________________________________________________\n"
          ],
          "name": "stdout"
        }
      ]
    },
    {
      "cell_type": "code",
      "metadata": {
        "id": "7XZggSmtRnh8",
        "colab_type": "code",
        "outputId": "32462550-7f81-42a0-955b-1ab9ca5191eb",
        "colab": {
          "base_uri": "https://localhost:8080/",
          "height": 677
        }
      },
      "source": [
        "j=1\n",
        "for i in var:\n",
        "  dog= train_features[i]\n",
        "  #dog = cv2.resize(dog, dsize=(224, 224), interpolation=cv2.INTER_CUBIC)\n",
        "  #x = image.img_to_array(dog)\n",
        "  x = np.expand_dims(dog, axis=0)\n",
        "  x = preprocess_input(x)\n",
        "  print(x.shape)\n",
        "  preds = model.predict(x)\n",
        "  class_idx = np.argmax(preds[0])\n",
        "  print(class_idx)\n",
        "  class_output = model.output[:, class_idx]\n",
        "  last_conv_layer = model.get_layer(\"conv2d_9\")\n",
        "  grads = K.gradients(class_output, last_conv_layer.output)[0]\n",
        "  print(grads.shape)\n",
        "  pooled_grads = K.mean(grads, axis=(0, 1, 2))\n",
        "  print(pooled_grads.shape)\n",
        "  iterate = K.function([model.input], [pooled_grads, last_conv_layer.output[0]])\n",
        "  pooled_grads_value, conv_layer_output_value = iterate([x])\n",
        "  for i in range(64):\n",
        "    conv_layer_output_value[:, :, i] *= pooled_grads_value[i]\n",
        "  heatmap = np.mean(conv_layer_output_value, axis = -1)\n",
        "  print(conv_layer_output_value.shape)\n",
        "  print(heatmap.shape)\n",
        "  heatmap = np.maximum(heatmap, 0)\n",
        "  heatmap /= np.max(heatmap)\n",
        "  heatmap = cv2.resize(heatmap, (dog.shape[1], dog.shape[0]))\n",
        "  heatmap = np.uint8(255 * heatmap)\n",
        "  heatmap = cv2.applyColorMap(heatmap, cv2.COLORMAP_JET)\n",
        "  superimposed_img = cv2.addWeighted(dog, 0.5, heatmap, 0.5, 0)\n",
        "  from google.colab.patches import cv2_imshow\n",
        "  plt.subplot(4,2,j)\n",
        "  plt.imshow(dog)\n",
        "  plt.subplot(4,2,j+1)\n",
        "  plt.imshow(superimposed_img)\n",
        "  j=j+2"
      ],
      "execution_count": 92,
      "outputs": [
        {
          "output_type": "stream",
          "text": [
            "(1, 32, 32, 3)\n",
            "1\n",
            "(?, 5, 5, 64)\n",
            "(64,)\n",
            "(5, 5, 64)\n",
            "(5, 5)\n",
            "(1, 32, 32, 3)\n",
            "1\n",
            "(?, 5, 5, 64)\n",
            "(64,)\n",
            "(5, 5, 64)\n",
            "(5, 5)\n",
            "(1, 32, 32, 3)\n",
            "1\n",
            "(?, 5, 5, 64)\n",
            "(64,)\n",
            "(5, 5, 64)\n",
            "(5, 5)\n",
            "(1, 32, 32, 3)\n",
            "2\n",
            "(?, 5, 5, 64)\n",
            "(64,)\n",
            "(5, 5, 64)\n",
            "(5, 5)\n"
          ],
          "name": "stdout"
        },
        {
          "output_type": "display_data",
          "data": {
            "image/png": "[encoded data removed]",
            "text/plain": [
              "<Figure size 432x288 with 8 Axes>"
            ]
          },
          "metadata": {
            "tags": []
          }
        }
      ]
    },
    {
      "cell_type": "code",
      "metadata": {
        "id": "dxceCYnwYg4P",
        "colab_type": "code",
        "colab": {}
      },
      "source": [
        ""
      ],
      "execution_count": 0,
      "outputs": []
    }
  ]
}